{
 "cells": [
  {
   "cell_type": "code",
   "execution_count": null,
   "id": "3b0a28cd-0c97-4249-be9c-2c81d26eec9e",
   "metadata": {
    "tags": []
   },
   "outputs": [],
   "source": [
    "import pandas as pd\n",
    "import numpy as np\n",
    "import matplotlib\n",
    "import matplotlib.pyplot as plt\n",
    "import seaborn as sns\n",
    "\n",
    "from pathlib import Path\n",
    "import re\n",
    "import utils\n",
    "import functools\n",
    "\n",
    "%load_ext autoreload\n",
    "%autoreload 2"
   ]
  },
  {
   "cell_type": "code",
   "execution_count": null,
   "id": "df66618d-99d1-47f6-912f-35fa5d4e8fa2",
   "metadata": {
    "tags": []
   },
   "outputs": [],
   "source": [
    "def read_data(directory, regex=None, bins=4):\n",
    "    directory = Path(directory)\n",
    "    # Parse information from filename using the provided regex\n",
    "    result, _ = utils.analyze(directory / 'Image.csv', \n",
    "                              parsers=[\n",
    "                                  utils.ImageParser(regex, debug_regex=False),                              \n",
    "                              ])\n",
    "    \n",
    "    # Measure features from GC objects\n",
    "    result, _ = utils.analyze(directory / 'GC.csv',\n",
    "                              previous_result=result,\n",
    "                              parsers=[\n",
    "                                  utils.BlankParser(['ObjectNumber']),\n",
    "                              ],\n",
    "                              extra_columns=['ImageNumber', ],\n",
    "                              merge_fcn=functools.partial(utils.merge_result, merge_on=['ImageNumber'], how='left'),\n",
    "                             )\n",
    "    \n",
    "    result, _ = utils.analyze(directory / 'GC.csv',\n",
    "                              previous_result=result,\n",
    "                              parsers=[\n",
    "                                  utils.ShapeParser(),\n",
    "                                  utils.IntensityParser(images=['FiveETS', 'plasmidStar'], measures=['UpperQuartile', 'Mean', 'Max']),\n",
    "                                  utils.RimEnrichmentParser(images=['NOP56'], area_normalization='GCObjectImage', bins=bins, total_bins=20),\n",
    "                              ],\n",
    "                              region='GC',\n",
    "                              extra_columns=['ImageNumber', 'ObjectNumber'],\n",
    "                              merge_fcn=functools.partial(utils.merge_result, merge_on=['ImageNumber', 'ObjectNumber'])\n",
    "                             )\n",
    "    \n",
    "    # get correlation over combined objects\n",
    "    result, _ = utils.analyze(directory / 'DilatedGC.csv',\n",
    "                              parsers=[\n",
    "                                  utils.CorrelationParser(measures=['Correlation', 'Overlap']),\n",
    "                              ],\n",
    "                              previous_result=result,\n",
    "                              region='DilatedGC',\n",
    "                              extra_columns=['ImageNumber', 'ObjectNumber'],\n",
    "                              merge_fcn=functools.partial(utils.merge_result, merge_on=['ImageNumber', 'ObjectNumber'])\n",
    "                             )\n",
    "    \n",
    "    return result\n",
    "    \n",
    "data = read_data('/scratch/gpfs/tcomi/cp_paper_redo/endo_exo_rRNA/testing/outputs', \n",
    "                 r'/[A-G]\\d+_(?P<treatment>[^_]+)_(?P<star>18S|28S)plasmid488.*nd2$', \n",
    "                 )"
   ]
  },
  {
   "cell_type": "code",
   "execution_count": null,
   "id": "62f66a1f-1d7c-400f-897b-8ad097e9ede8",
   "metadata": {},
   "outputs": [],
   "source": [
    "sns.relplot(data=data, x='GC_MeanIntensity_FiveETS', y='GC_MaxIntensity_plasmidStar',\n",
    "            col='star', style='treatment', \n",
    "           )"
   ]
  }
 ],
 "metadata": {
  "kernelspec": {
   "display_name": "Python 3 (ipykernel)",
   "language": "python",
   "name": "python3"
  },
  "language_info": {
   "codemirror_mode": {
    "name": "ipython",
    "version": 3
   },
   "file_extension": ".py",
   "mimetype": "text/x-python",
   "name": "python",
   "nbconvert_exporter": "python",
   "pygments_lexer": "ipython3",
   "version": "3.11.4"
  }
 },
 "nbformat": 4,
 "nbformat_minor": 5
}
