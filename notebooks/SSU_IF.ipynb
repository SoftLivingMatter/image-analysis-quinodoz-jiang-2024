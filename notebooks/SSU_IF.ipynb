{
 "cells": [
  {
   "cell_type": "code",
   "execution_count": 1,
   "id": "3b0a28cd-0c97-4249-be9c-2c81d26eec9e",
   "metadata": {
    "tags": []
   },
   "outputs": [],
   "source": [
    "import pandas as pd\n",
    "import numpy as np\n",
    "import matplotlib\n",
    "import matplotlib.pyplot as plt\n",
    "import seaborn as sns\n",
    "\n",
    "from pathlib import Path\n",
    "import re\n",
    "import utils\n",
    "import functools\n",
    "\n",
    "%load_ext autoreload\n",
    "%autoreload 2"
   ]
  },
  {
   "cell_type": "code",
   "execution_count": null,
   "id": "df66618d-99d1-47f6-912f-35fa5d4e8fa2",
   "metadata": {
    "tags": []
   },
   "outputs": [],
   "source": [
    "# helper function to merge incoming dfs with the results by image number and cell number.\n",
    "def merge_result(result_df, df, map_cols, merge_on='Parent_DilatedNucleoli'):\n",
    "    return result_df.merge(\n",
    "        df[['ImageNumber', merge_on] + list(map_cols.keys())].rename(columns=map_cols),\n",
    "        on=['ImageNumber', merge_on],\n",
    "    )\n",
    "\n",
    "def build_initial_data(directory, common, regex):\n",
    "    gc = pd.read_csv(\n",
    "        directory / 'InitialNucleoli.csv', \n",
    "        usecols=common + ['AreaShape_Area'],\n",
    "    )\n",
    "    \n",
    "    # read image metadata, mainly file location\n",
    "    images = pd.read_csv(directory / 'Image.csv', usecols=['Metadata_FileLocation', 'ImageNumber', 'Metadata_Series'])\n",
    "    \n",
    "    # add in regex of filename (time, treatment, etc)\n",
    "    if regex:\n",
    "        images = images.join(images['Metadata_FileLocation'].str.extract(regex))\n",
    "    \n",
    "    # start building the final result, with image number and merged_gc number (renamed to cell number)\n",
    "    result = gc[['ImageNumber', 'Parent_DilatedNucleoli']].drop_duplicates().rename(columns={\n",
    "        'Parent_DilatedNucleoli': 'NucleolusNumber'\n",
    "    })\n",
    "    \n",
    "    # add image file location and regex info\n",
    "    result = result.merge(images, on='ImageNumber', how=\"left\")\n",
    "    \n",
    "    # gc number, done separately because the cellnumber doesn't match Parent_DilatedNucleoli any more\n",
    "    result = result.merge(\n",
    "        gc.groupby(['ImageNumber', 'Parent_DilatedNucleoli'])['AreaShape_Area'].count().rename('Count_GC').reset_index(),\n",
    "        left_on=['ImageNumber', 'NucleolusNumber'], right_on=['ImageNumber', 'Parent_DilatedNucleoli']\n",
    "    )\n",
    "\n",
    "    return result\n",
    "\n",
    "def add_npm_partitioning(result, directory, common, other_name='IF'):\n",
    "    # read npm partitioning from intial and rim nucleoli\n",
    "    gc = pd.read_csv(\n",
    "        directory / 'InitialNucleoli.csv', \n",
    "        usecols=common + ['Intensity_MeanIntensity_GC', f'Intensity_MeanIntensity_{other_name}',\n",
    "                          'Intensity_MeanIntensity_DFC',\n",
    "                          'Intensity_MeanIntensity_star18S', 'AreaShape_Area', \n",
    "                          'AreaShape_Eccentricity', 'AreaShape_Perimeter',\n",
    "                          'AreaShape_Center_X', 'AreaShape_Center_Y',\n",
    "                         ],\n",
    "    )\n",
    "    \n",
    "    # calculate circularity as 4 pi area / perimeter ** 2\n",
    "    gc['AreaShape_Cicularity'] = 4 * np.pi * gc['AreaShape_Area'] / gc['AreaShape_Perimeter'] ** 2\n",
    "        \n",
    "    map_cols = {\n",
    "        'AreaShape_Eccentricity': 'mean_GC_eccentricity',\n",
    "        'AreaShape_Cicularity': 'mean_GC_circularity',\n",
    "        'Intensity_MeanIntensity_GC': 'mean_Intensity_GC_GC',\n",
    "        'Intensity_MeanIntensity_DFC': 'mean_Intensity_DFC_GC',\n",
    "        f'Intensity_MeanIntensity_{other_name}': 'mean_Intensity_target_GC',\n",
    "        'Intensity_MeanIntensity_star18S': 'mean_Intensity_18Sstar_GC',\n",
    "        'AreaShape_Area': 'GC_area',\n",
    "        'AreaShape_Center_X': 'Center_X',\n",
    "        'AreaShape_Center_Y': 'Center_Y',\n",
    "    }\n",
    "    result = merge_result(result, gc, map_cols)\n",
    "\n",
    "    nucleoplasm = pd.read_csv(\n",
    "        directory / 'NucleoplasmRim.csv', \n",
    "        usecols=common + ['Intensity_MeanIntensity_GC', f'Intensity_MeanIntensity_{other_name}',\n",
    "                          'Intensity_MeanIntensity_star18S',],\n",
    "    )\n",
    "    map_cols = {\n",
    "        'Intensity_MeanIntensity_GC': 'mean_Intensity_GC_nucleoplasm',\n",
    "        f'Intensity_MeanIntensity_{other_name}': 'mean_Intensity_target_nucleoplasm',\n",
    "        'Intensity_MeanIntensity_star18S': 'mean_Intensity_18Sstar_nucleoplasm',\n",
    "    }\n",
    "    result = merge_result(result, nucleoplasm, map_cols)\n",
    "\n",
    "    smoothing = 0.00#1\n",
    "    for marker in ('GC', 'target', '18Sstar'):\n",
    "        result[f'partitioning_{marker}'] = (result[f'mean_Intensity_{marker}_GC'] + smoothing) / (result[f'mean_Intensity_{marker}_nucleoplasm'] + smoothing)\n",
    "    return result\n",
    "\n",
    "def add_rdf(result, directory, common):\n",
    "    cols = open(directory / 'DilatedNucleoli.csv', 'r').readline().split(',')\n",
    "    nucl = pd.read_csv(\n",
    "        directory / 'DilatedNucleoli.csv',\n",
    "        usecols=['ImageNumber', 'ObjectNumber'] + [c.strip() for c in cols if c.startswith('RDF_')],\n",
    "        )\n",
    "    # intensity\n",
    "    nucl = nucl.melt(id_vars=['ImageNumber', 'ObjectNumber'])\n",
    "    rdf = nucl[nucl.variable.str.startswith('RDF_Intensity')].reset_index(drop=True)\n",
    "    extract = rdf.variable.str.extract(r'RDF_Intensity_C(\\d)_R([-0-9]+)')\n",
    "    rdf = rdf.assign(\n",
    "        channel=extract[0].astype(int),\n",
    "        radius=extract[1].astype(int),\n",
    "    ).rename(columns={'value': 'intensity'}).drop(columns='variable')\n",
    "\n",
    "    counts = nucl[nucl.variable.str.startswith('RDF_Count')].reset_index(drop=True)\n",
    "    extract = counts.variable.str.extract(r'RDF_Counts_R([-0-9]+)')\n",
    "    counts = counts.assign(\n",
    "        radius=extract[0].astype(int)\n",
    "    ).rename(columns={'value': 'counts'}).drop(columns='variable')\n",
    "\n",
    "    rdf = rdf.merge(counts, on=['ImageNumber', 'ObjectNumber', 'radius'])\n",
    "\n",
    "    return result, rdf\n",
    "    \n",
    "def read_data(directory, regex=None):\n",
    "    directory = Path(directory)\n",
    "    # image and object number are uniuqe identifiers.  Area is used a lot and the parent_mergedGC should correspond to a single cell\n",
    "    common = ['ImageNumber', 'ObjectNumber', 'Parent_DilatedNucleoli']\n",
    "\n",
    "    result = build_initial_data(directory, common, regex)\n",
    "\n",
    "    result = add_npm_partitioning(result, directory, common)\n",
    "    result, rdf = add_rdf(result, directory, common)\n",
    "    \n",
    "    return result.drop(columns='Parent_DilatedNucleoli'), rdf\n",
    "    \n",
    "data, rdf = read_data('SSU_IF/SSU_IF/outputs/', regex=r'/[A-G]\\d+_+(?P<SSU>WTSSU|mutSSU).*_(?P<target>RPS6|surf6|RRP1|DDX21|nucleolin|EXOSC10).*nd2')\n",
    "# data = data[~data.isna().any(axis=1)].reset_index(drop=True)\n",
    "data[data.isna().any(axis=1)].Metadata_FileLocation.unique()\n",
    "# data.groupby(['SSU', 'target']).ImageNumber.count()\n",
    "# dat.Metadata_FileLocation.unique()\n",
    "# merged.to_csv('SSU_IF.csv')"
   ]
  },
  {
   "cell_type": "markdown",
   "id": "0a222bc9-252b-48ae-adf9-41c858c6d115",
   "metadata": {
    "jp-MarkdownHeadingCollapsed": true
   },
   "source": [
    "## Initial analyses"
   ]
  },
  {
   "cell_type": "code",
   "execution_count": null,
   "id": "6879e293-e6e0-4fb3-9cb8-b4694dadeb42",
   "metadata": {},
   "outputs": [],
   "source": [
    "grid = sns.relplot(data=data, x='mean_Intensity_18Sstar_GC', y='GC_area', col='target', col_wrap=2, hue='SSU', alpha=0.2)\n",
    "for ax in grid.axes.flat:\n",
    "    ax.axvline(0.00075)\n",
    "    ax.axvline(0.002)\n",
    "    ax.axhline(3000)\n",
    "    ax.axhline(300)\n"
   ]
  },
  {
   "cell_type": "code",
   "execution_count": null,
   "id": "039486f7-8c22-4377-8e63-3999b54ef9c2",
   "metadata": {},
   "outputs": [],
   "source": [
    "data['nucleoli_type'] = 'other'\n",
    "data.loc[(data['partitioning_GC'] < 1.5) & (data['partitioning_18Sstar'] > 1.5), 'nucleoli_type'] = 'de novo'\n",
    "# data.loc[(data['partitioning_18Sstar'] > 1.5), 'nucleoli_type'] = 'de novo'\n",
    "data.loc[(data['partitioning_18Sstar'] < 1.1), 'nucleoli_type'] = 'endogenous'"
   ]
  },
  {
   "cell_type": "code",
   "execution_count": null,
   "id": "6e147c3c-e1ad-49ae-9bfe-bc394f5f4bbd",
   "metadata": {},
   "outputs": [],
   "source": [
    "data.columns"
   ]
  },
  {
   "cell_type": "code",
   "execution_count": null,
   "id": "4b1955f3-2363-4f66-adfd-9293aabe69c2",
   "metadata": {},
   "outputs": [],
   "source": [
    "grid = sns.relplot(data=data, x='mean_Intensity_18Sstar_GC', y='GC_area', hue='nucleoli_type', row='nucleoli_type', col='SSU', alpha=0.2)\n",
    "\n",
    "for ax in grid.axes.flat:\n",
    "    \n",
    "    ax.axvline(0.0025)\n",
    "    ax.axvline(0.004)\n",
    "    # ax.axvline(0.00075)\n",
    "    # ax.axvline(0.002)\n",
    "    ax.axhline(3000)\n",
    "    ax.axhline(300)"
   ]
  },
  {
   "cell_type": "code",
   "execution_count": null,
   "id": "108801af-69fd-4533-b75e-b098f4506cb6",
   "metadata": {},
   "outputs": [],
   "source": [
    "sns.displot(data=data, hue='SSU', x='mean_Intensity_GC_GC', kind='ecdf', col='nucleoli_type', facet_kws=dict(sharex='row', sharey='row'))\n",
    "sns.displot(data=data, hue='nucleoli_type', x='mean_Intensity_GC_GC', kind='ecdf', col='SSU', facet_kws=dict(sharex='row', sharey='row'))\n",
    "# sns.displot(data=data, hue='SSU', x='mean_GC_circularity', kind='ecdf', col='nucleoli_type', facet_kws=dict(sharex='row', sharey='row'))\n",
    "# sns.displot(data=data, hue='SSU', x='mean_GC_eccentricity', kind='ecdf', col='nucleoli_type', facet_kws=dict(sharex='row', sharey='row'))\n",
    "# sns.violinplot(data=data, x='nucleoli_type', y='GC_area', hue='SSU') "
   ]
  },
  {
   "cell_type": "code",
   "execution_count": null,
   "id": "5113eb95-e7c2-470f-aed7-d0c246b88ff2",
   "metadata": {},
   "outputs": [],
   "source": [
    "sns.scatterplot(data=data, x='partitioning_18Sstar', y='partitioning_GC', hue='nucleoli_type')"
   ]
  },
  {
   "cell_type": "code",
   "execution_count": null,
   "id": "4c32f922-a0cd-418c-bf31-8f9fbc92124c",
   "metadata": {},
   "outputs": [],
   "source": [
    "sns.displot(data=data, row='target', col='SSU', x='mean_Intensity_target_GC', kind='ecdf', hue='nucleoli_type', facet_kws=dict(sharex='row', sharey='row'))"
   ]
  },
  {
   "cell_type": "code",
   "execution_count": null,
   "id": "462d9cc4-d266-4d06-b08d-9f9dc3ffa3fe",
   "metadata": {},
   "outputs": [],
   "source": [
    "sns.displot(data=data[data.nucleoli_type == 'de novo'], col='target', col_wrap=2, x='partitioning_target', kind='ecdf', hue='SSU', facet_kws=dict(sharex=False, sharey=False))"
   ]
  },
  {
   "cell_type": "code",
   "execution_count": null,
   "id": "3801ffb4-cdd7-4483-922a-1ca2e122cf75",
   "metadata": {},
   "outputs": [],
   "source": [
    "sns.displot(data=data[data.nucleoli_type == 'endogenous'], col='target', col_wrap=2, x='partitioning_target', kind='ecdf', hue='SSU', facet_kws=dict(sharex=False, sharey=False))"
   ]
  },
  {
   "cell_type": "code",
   "execution_count": null,
   "id": "efae76dc-519e-4455-b533-34b885880bfb",
   "metadata": {},
   "outputs": [],
   "source": [
    "data.to_csv('SSU_IF.csv', index=False)"
   ]
  },
  {
   "cell_type": "code",
   "execution_count": null,
   "id": "471998c0-a013-416c-8316-5ce94f3860b6",
   "metadata": {},
   "outputs": [],
   "source": [
    "\n",
    "sns.relplot(data=data, x='mean_Intensity_target_GC', y='mean_Intensity_target_nucleoplasm', row='target', col='nucleoli_type', hue='SSU', facet_kws=dict(sharex='row', sharey='row'))"
   ]
  },
  {
   "cell_type": "markdown",
   "id": "ddd6db46-a0e6-4851-9673-227a14e95524",
   "metadata": {
    "jp-MarkdownHeadingCollapsed": true
   },
   "source": [
    "## RDF curves"
   ]
  },
  {
   "cell_type": "code",
   "execution_count": null,
   "id": "57c1a303-edd2-4630-9efb-c9cc579acfff",
   "metadata": {},
   "outputs": [],
   "source": [
    "# retain only de novo nucleoli\n",
    "to_keep = data.copy()#[data.nucleoli_type == 'de novo'].copy()\n",
    "de_novo = rdf.merge(to_keep[['ImageNumber', 'NucleolusNumber', 'SSU', 'target', 'nucleoli_type']], left_on=['ImageNumber', 'ObjectNumber'], right_on=['ImageNumber', 'NucleolusNumber'])"
   ]
  },
  {
   "cell_type": "code",
   "execution_count": null,
   "id": "6ab96bf9-6ce7-4f62-86f6-991a0f60d755",
   "metadata": {},
   "outputs": [],
   "source": [
    "# average raw values based on target and ssu\n",
    "groups = ['SSU', 'target', 'channel', 'radius', 'nucleoli_type']\n",
    "channels = ['', 'target', 'Nop56', '18S', 'NPM1']\n",
    "rdf_data = []\n",
    "for name, dat in de_novo.groupby(groups):\n",
    "    rdf_data.append(dict(\n",
    "        zip(groups, name),\n",
    "        intensity=((dat['intensity'] * dat['counts']).fillna(0).sum()) / dat['counts'].sum(),\n",
    "        channel=channels[name[2]]\n",
    "    ))\n",
    "rdf_data = pd.DataFrame(rdf_data)         "
   ]
  },
  {
   "cell_type": "code",
   "execution_count": null,
   "id": "8dfab86b-6138-46a5-8c3a-09eb7509aa92",
   "metadata": {},
   "outputs": [],
   "source": [
    "rdf_data.to_csv('cropped_images/rdf_data.csv')"
   ]
  },
  {
   "cell_type": "code",
   "execution_count": null,
   "id": "67538492-f6c8-460c-a6dc-05f0b0b85dca",
   "metadata": {},
   "outputs": [],
   "source": [
    "sns.relplot(data=rdf_data, x='radius', y='intensity', col='channel', row='target', kind='line', style='SSU', hue='nucleoli_type', facet_kws=dict(sharex=True, sharey=False))"
   ]
  },
  {
   "cell_type": "code",
   "execution_count": null,
   "id": "4b41e7c0-890d-4466-8610-54d739fd506c",
   "metadata": {},
   "outputs": [],
   "source": [
    "sns.relplot(\n",
    "    data=rdf_data,\n",
    "    x='radius',\n",
    "    y='intensity',\n",
    "    style='SSU',\n",
    "    hue='channel',\n",
    "    col='nucleoli_type',\n",
    "    kind='line',\n",
    "    row='target',\n",
    "    facet_kws=dict(sharex=True, sharey=False),\n",
    ")"
   ]
  },
  {
   "cell_type": "code",
   "execution_count": null,
   "id": "3637615d-d237-4670-a01d-7413f1eec6ca",
   "metadata": {},
   "outputs": [],
   "source": [
    "ssu = 'mutSSU'\n",
    "nuc = 'endogenous'\n",
    "target_dat = rdf_data[\n",
    "    (rdf_data.SSU == ssu) &\n",
    "    (rdf_data.nucleoli_type == nuc) &\n",
    "    (rdf_data.target.isin(('DDX21', 'EXOSC10', 'RPS6'))) &\n",
    "    (rdf_data.channel == \"target\")\n",
    "    ].copy()\n",
    "target_dat['normalized_intensity'] = target_dat.groupby('target').intensity.transform(lambda x: (x - x.min()) / (x.max() - x.min()), )\n",
    "\n",
    "other_dat = rdf_data[\n",
    "        (rdf_data.SSU == ssu) &\n",
    "        (rdf_data.nucleoli_type == nuc) &\n",
    "        (rdf_data.channel.isin((\"Nop56\", \"18S\")))\n",
    "    ].copy()\n",
    "other_dat['normalized_intensity'] = other_dat.groupby(['target', 'channel']).intensity.transform(lambda x: (x - x.min()) / (x.max() - x.min()), )"
   ]
  },
  {
   "cell_type": "code",
   "execution_count": null,
   "id": "f0464d29-07e4-4dff-aab8-77f39d32373e",
   "metadata": {},
   "outputs": [],
   "source": [
    "# all targets, only de novo, only WT, normalized\n",
    "ax = sns.lineplot(\n",
    "    data=target_dat,\n",
    "    x='radius',\n",
    "    y='normalized_intensity',\n",
    "    hue='target',\n",
    ")\n",
    "sns.lineplot(\n",
    "    data=other_dat,\n",
    "    x='radius',\n",
    "    y='normalized_intensity',\n",
    "    hue='channel',\n",
    "    linestyle='--',\n",
    "    ax=ax\n",
    ")\n",
    "plt.savefig(f'{ssu}_{nuc.replace(\" \", \"_\")}.pdf')             "
   ]
  },
  {
   "cell_type": "code",
   "execution_count": null,
   "id": "6c9f9efa-04b5-4f40-afb1-aaf3b240faf1",
   "metadata": {},
   "outputs": [],
   "source": [
    "# all targets, only de novo, only WT, normalized\n",
    "g = sns.relplot(\n",
    "    data=target_dat,\n",
    "    x='radius',\n",
    "    y='normalized_intensity',\n",
    "    hue='target',\n",
    "    kind='line',\n",
    "    col='target',\n",
    "    col_wrap=2,\n",
    ")\n",
    "\n",
    "for ax in g.axes.flat:\n",
    "    sns.lineplot(\n",
    "        data=npm_dat,\n",
    "        x='radius',\n",
    "        y='normalized_intensity',\n",
    "        linestyle='--',\n",
    "        c='k',\n",
    "        ax=ax,\n",
    ")\n",
    "             "
   ]
  },
  {
   "cell_type": "code",
   "execution_count": null,
   "id": "9fac13fa-315b-48d8-8437-b9784d1408b6",
   "metadata": {},
   "outputs": [],
   "source": [
    "other_dat = rdf_data[\n",
    "        (rdf_data.target.isin(('DDX21', 'EXOSC10'))) &\n",
    "        (rdf_data.nucleoli_type == 'de novo') &\n",
    "        (rdf_data.channel.isin((\"18S\",)))\n",
    "    ].copy()\n",
    "other_dat['normalized_intensity'] = other_dat.groupby(['SSU', 'nucleoli_type']).intensity.transform(lambda x: (x - x.min()) / (x.max() - x.min()), )"
   ]
  },
  {
   "cell_type": "code",
   "execution_count": null,
   "id": "d5d05190-47c6-4a37-9fd5-045003c9e820",
   "metadata": {},
   "outputs": [],
   "source": [
    "sns.relplot(\n",
    "    data=other_dat,\n",
    "    x='radius',\n",
    "    y='normalized_intensity',\n",
    "    hue='SSU',\n",
    "    kind='line',\n",
    "    row='nucleoli_type',\n",
    ")"
   ]
  },
  {
   "cell_type": "markdown",
   "id": "479db1b4-3ffe-4e5a-a489-7f70e774f842",
   "metadata": {
    "jp-MarkdownHeadingCollapsed": true
   },
   "source": [
    "## Sample images"
   ]
  },
  {
   "cell_type": "code",
   "execution_count": null,
   "id": "c3df49d8-5282-44bf-955f-e5157828bc54",
   "metadata": {},
   "outputs": [],
   "source": [
    "import aicsimageio\n",
    "import urllib.parse"
   ]
  },
  {
   "cell_type": "code",
   "execution_count": null,
   "id": "8be24433-92e7-4db0-82ba-d4cd9ef9cece",
   "metadata": {},
   "outputs": [],
   "source": [
    "ax = sns.ecdfplot(data=data, x='GC_area', hue='nucleoli_type')\n",
    "ax.set_xlim(left=0, right=1000)"
   ]
  },
  {
   "cell_type": "code",
   "execution_count": null,
   "id": "cc46656c-4ac8-44b9-8eb5-f38b218b988e",
   "metadata": {},
   "outputs": [],
   "source": [
    "thresh_dat = []\n",
    "for cutoff in range(200, 1001, 50):\n",
    "    thresh_dat.append(\n",
    "        {\n",
    "            'cutoff': cutoff,\n",
    "            'f_endogenous': len(data[(data.GC_area < cutoff) & (data.nucleoli_type == 'endogenous')]) / len(data[data.nucleoli_type == 'endogenous']),\n",
    "            'f_denovo': len(data[(data.GC_area < cutoff) & (data.nucleoli_type == 'de novo')]) / len(data[data.nucleoli_type == 'de novo']),\n",
    "        })\n",
    "pd.DataFrame(thresh_dat)"
   ]
  },
  {
   "cell_type": "code",
   "execution_count": null,
   "id": "ce20fe71-269b-46da-be9c-81ff61ba4f90",
   "metadata": {},
   "outputs": [],
   "source": [
    "to_show = data[\n",
    "  # (data.target == 'EXOSC10') &\n",
    "  (data.GC_area < 600) &\n",
    "  (data.GC_area > 400) &\n",
    "  (data.Center_X > 50) &\n",
    "  (data.Center_Y > 50) &\n",
    "  (data.Center_X < 2204) &\n",
    "  (data.Center_Y < 2204) &\n",
    "  (data.nucleoli_type.isin(('de novo', 'endogenous')))\n",
    "].copy().groupby(['SSU', 'nucleoli_type']).head(16)\n",
    "to_show.iloc[0]"
   ]
  },
  {
   "cell_type": "code",
   "execution_count": null,
   "id": "040ee23b-f796-4f5a-8267-1e01c68104f6",
   "metadata": {},
   "outputs": [],
   "source": [
    "fig, axes = plt.subplots(8, 8, figsize=(24, 24))\n",
    "radius = 50\n",
    "import warnings\n",
    "with warnings.catch_warnings(action=\"ignore\"):  # ignore division warning in normalization\n",
    "    for (ind, row), ax in zip(to_show.iterrows(), axes.flatten()):\n",
    "        img = aicsimageio.imread(urllib.parse.unquote(row.Metadata_FileLocation)).squeeze()\n",
    "        sub_img = np.zeros((radius*2, radius*2, 3))\n",
    "        \n",
    "        # channels = ['', 'target', 'Nop56', '18S', 'NPM1']\n",
    "        x, y = int(row.Center_Y), int(row.Center_X)\n",
    "        sub_img[:, :, 0] = img[1, x-radius:x+radius, y-radius:y+radius]  # red is nop56\n",
    "        sub_img[:, :, 1] = img[0, x-radius:x+radius, y-radius:y+radius]  # green is target\n",
    "        # sub_img[:, :, 2] = img[2, x-radius:x+radius, y-radius:y+radius]  # green is target\n",
    "        # normalize\n",
    "        sub_img = (sub_img - sub_img.min(axis=(0, 1), keepdims=True)) / (sub_img.max(axis=(0, 1), keepdims=True) - sub_img.min(axis=(0, 1), keepdims=True))\n",
    "        ax.imshow(sub_img)\n",
    "        ax.set_title(f\"{row.SSU} - {row.nucleoli_type}\")\n",
    "        ax.set_axis_off()\n",
    "        \n",
    "    plt.tight_layout()\n",
    "plt.savefig('sample_images.pdf')"
   ]
  },
  {
   "cell_type": "markdown",
   "id": "b8484c48-de0d-445d-9a9a-4ec0af3d73d3",
   "metadata": {
    "jp-MarkdownHeadingCollapsed": true
   },
   "source": [
    "## Show all images, filter < 400, order by 18S intensity"
   ]
  },
  {
   "cell_type": "code",
   "execution_count": null,
   "id": "01cf988c-05be-4ef6-8225-2320c588197f",
   "metadata": {},
   "outputs": [],
   "source": [
    "import aicsimageio\n",
    "import urllib.parse\n",
    "import warnings\n",
    "\n",
    "radius = 100\n",
    "to_show = to_show = data[\n",
    "  (data.GC_area > 400) &\n",
    "  (data.Center_X > radius) &\n",
    "  (data.Center_Y > radius) &\n",
    "  (data.Center_X < 2254 - radius) &\n",
    "  (data.Center_Y < 2254 - radius)\n",
    "].copy().sort_values(by='mean_Intensity_18Sstar_GC', ascending=False).reset_index(drop=True)\n",
    "\n",
    "to_show.to_csv('manual_samples.csv')\n",
    "selected = pd.read_csv('cropped_images/Lifei_SSUdenovo.csv')\n",
    "# selected\n",
    "# selected = to_show.iloc[selected['row number']]\n",
    "\n",
    "# fig, axes = plt.subplots(1, 4, figsize=(12, 3))\n",
    "fig, axes = plt.subplots(11, 8, figsize=(24, 33))\n",
    "df = to_show.iloc[88::89]\n",
    "rows = df.iterrows()\n",
    "imgs = {}\n",
    "with warnings.catch_warnings():\n",
    "    warnings.simplefilter(\"ignore\")  # tight layout warning\n",
    "    for page in range(1, len(df) // 88 + 2):\n",
    "        for ax, (ind, row) in zip(axes.flatten(), rows):\n",
    "            img_name = urllib.parse.unquote(row.Metadata_FileLocation)\n",
    "            if img_name not in imgs:\n",
    "                im = aicsimageio.imread(img_name).squeeze()\n",
    "                # normalize\n",
    "                imgs[img_name] = ((im - im.min(axis=(1, 2), keepdims=True)) / \n",
    "                    (im.max(axis=(1, 2), keepdims=True) - im.min(axis=(1, 2), keepdims=True))).copy()\n",
    "            img = imgs[img_name]\n",
    "            sub_img = np.zeros((radius*2, radius*2, 3))\n",
    "            \n",
    "            # channels = ['', 'target', 'Nop56', '18S', 'NPM1']\n",
    "            x, y = int(row.Center_Y), int(row.Center_X)\n",
    "            sub_img[:, :, 0] = img[1, x-radius:x+radius, y-radius:y+radius]  # red is nop56\n",
    "            sub_img[:, :, 1] = img[2, x-radius:x+radius, y-radius:y+radius]  # green is 18S\n",
    "            # sub_img[:, :, 2] = img[2, x-radius:x+radius, y-radius:y+radius]  # green is target\n",
    "            ax.clear()\n",
    "            ax.imshow(sub_img)\n",
    "            ax.set_title(f'{ind} - {x} - {y} - {row.ImageNumber}')\n",
    "            ax.set_axis_off()\n",
    "            \n",
    "        plt.tight_layout()\n",
    "        plt.savefig(f'cropped_images/unseen_{page:02}.pdf')\n"
   ]
  },
  {
   "cell_type": "code",
   "execution_count": null,
   "id": "165139cb-c9cc-4aba-864f-13e101c69351",
   "metadata": {},
   "outputs": [],
   "source": [
    "selected = pd.read_csv('cropped_images/Lifei_SSUdenovo.csv')\n",
    "exclude = pd.read_csv('cropped_images/subset_lifei_SSU_sofi_to_exclude.txt', header=None)\n",
    "selected = selected[~selected['row number'].isin(exclude[0])]\n",
    "selected = pd.concat((to_show.iloc[selected['row number']], to_show.iloc[1958:]))\n",
    "selected.to_csv('cropped_images/selected_nucleoli.csv')"
   ]
  },
  {
   "cell_type": "markdown",
   "id": "d3eb460a-c0c7-4265-a2dc-922dd66eb9a6",
   "metadata": {
    "jp-MarkdownHeadingCollapsed": true
   },
   "source": [
    "## Look at manually classified nucleoli"
   ]
  },
  {
   "cell_type": "code",
   "execution_count": null,
   "id": "d71fe693-85b7-4df1-a11e-cfa65f965b1a",
   "metadata": {},
   "outputs": [],
   "source": [
    "data = pd.read_csv('cropped_images/bkg_corr_nucleoli.csv', index_col=0)\n",
    "data.groupby(['SSU', 'target', 'nucleoli_type']).GC_area.count()"
   ]
  },
  {
   "cell_type": "code",
   "execution_count": null,
   "id": "2ac6723f-4b7c-426c-91d7-c4db29fe05ea",
   "metadata": {},
   "outputs": [],
   "source": [
    "grid = sns.relplot(data=data, x='partitioning_18Sstar', y='partitioning_GC', hue='nucleoli_type', row='nucleoli_type', col='SSU', alpha=0.2)\n",
    "\n",
    "for ax in grid.axes.flat:\n",
    "    \n",
    "    ax.axvline(1.5)\n",
    "    ax.axhline(1.5)\n",
    "    ax.axvline(1.1)\n",
    "\n",
    "# data['nucleoli_type'] = 'other'\n",
    "# data.loc[(data['partitioning_GC'] < 1.5) & (data['partitioning_18Sstar'] > 1.5), 'nucleoli_type'] = 'de novo'\n",
    "# data.loc[(data['partitioning_18Sstar'] < 1.1), 'nucleoli_type'] = 'endogenous'"
   ]
  },
  {
   "cell_type": "code",
   "execution_count": null,
   "id": "7c587b45-6e9a-43b8-8360-b906e6e9cd43",
   "metadata": {},
   "outputs": [],
   "source": [
    "selected"
   ]
  },
  {
   "cell_type": "markdown",
   "id": "9bb87aca-4170-4dfc-91ae-eb4deecf28e5",
   "metadata": {
    "jp-MarkdownHeadingCollapsed": true
   },
   "source": [
    "## Apply manual classes from non-background corrected data to the background corrected"
   ]
  },
  {
   "cell_type": "code",
   "execution_count": null,
   "id": "effe4738-ba3a-4025-a64c-37252e6661dd",
   "metadata": {},
   "outputs": [],
   "source": [
    "manual = pd.read_csv('cropped_images/selected_nucleoli.csv', index_col=0)\n",
    "manual['nucleoli_type'] = 'de novo'\n",
    "manual.loc[1958:, 'nucleoli_type'] = 'endogenous'\n",
    "\n",
    "def found_in_manual(row):\n",
    "    in_img = manual[manual.Metadata_FileLocation == row.Metadata_FileLocation]\n",
    "    dists = scipy.spatial.distance.cdist(np.expand_dims(row[['Center_X', 'Center_Y']].to_numpy(float), axis=0), in_img[['Center_X', 'Center_Y']].to_numpy())\n",
    "    return dists.size > 0 and dists.min() < 1\n",
    "    \n",
    "data = data[data.apply(found_in_manual, axis=1)]\n",
    "len(data)"
   ]
  },
  {
   "cell_type": "code",
   "execution_count": null,
   "id": "7e0f9f97-da7a-4ef4-be36-665acb7bd306",
   "metadata": {},
   "outputs": [],
   "source": [
    "# add in class from manual    \n",
    "def manual_class(row):\n",
    "    in_img = manual[manual.Metadata_FileLocation == row.Metadata_FileLocation]\n",
    "    dists = scipy.spatial.distance.cdist(np.expand_dims(row[['Center_X', 'Center_Y']].to_numpy(float), axis=0), in_img[['Center_X', 'Center_Y']].to_numpy())\n",
    "    return in_img.iloc[dists.argmin()]['nucleoli_type']\n",
    "\n",
    "data['nucleoli_type'] = data.apply(manual_class, axis=1)"
   ]
  },
  {
   "cell_type": "code",
   "execution_count": null,
   "id": "837f5ce8-c1e9-4593-9058-330aaec61610",
   "metadata": {},
   "outputs": [],
   "source": [
    "data.to_csv('cropped_images/bkg_corr_nucleoli.csv')"
   ]
  },
  {
   "cell_type": "markdown",
   "id": "868a9358-c510-42fa-911d-d2e8eabe485c",
   "metadata": {
    "jp-MarkdownHeadingCollapsed": true
   },
   "source": [
    "## Include cropped data"
   ]
  },
  {
   "cell_type": "code",
   "execution_count": null,
   "id": "8a6ddbb9-1bb9-4775-a647-6b1c5f43fba8",
   "metadata": {},
   "outputs": [],
   "source": [
    "crop_data, crop_rdf = read_data('/home/tcomi/Desktop/cp_outputs/SSU_test_raw', regex=r'SSU_IF/cropped/(?P<image_class>denoised|endogenous).*/[A-G]\\d+_+(?P<SSU>WTSSU|mutSSU).*_(?P<target>RPS6|surf6|RRP1|DDX21|nucleolin|EXOSC10).*nd2')\n",
    "crop_data.loc[crop_data.image_class == 'denoised', 'image_class'] = 'de novo'"
   ]
  },
  {
   "cell_type": "code",
   "execution_count": null,
   "id": "1fdb6662-d1a5-4126-baac-4a2e2cbc87e8",
   "metadata": {},
   "outputs": [],
   "source": [
    "crop_data.groupby(['target', 'image_class', 'SSU']).Count_GC.count()\n",
    "(crop_data.image_class != 'de novo').sum()\n",
    "# crop_data.to_csv('cropped_ssu.csv')"
   ]
  },
  {
   "cell_type": "code",
   "execution_count": null,
   "id": "5403f766-db86-44e9-9bac-0cea0727328d",
   "metadata": {},
   "outputs": [],
   "source": [
    "# Use size distribution to estimate a high pass threshold\n",
    "\n",
    "sns.histplot(x='GC_area', data=crop_data[crop_data.GC_area < 1000], hue='image_class')"
   ]
  },
  {
   "cell_type": "code",
   "execution_count": null,
   "id": "2804607d-1c2d-433a-9718-7bc8a40bb4b6",
   "metadata": {},
   "outputs": [],
   "source": [
    "# ax = sns.scatterplot(data=crop_data, x='partitioning_18Sstar', y='GC_area', hue='image_class')\n",
    "ax = sns.scatterplot(data=crop_data, x='mean_Intensity_18Sstar_GC', y='GC_area', hue='image_class')\n",
    "\n",
    "ax.axvline(0.0025)\n",
    "ax.axvline(0.004)\n",
    "ax.axhline(3000)\n",
    "ax.axhline(300)"
   ]
  },
  {
   "cell_type": "code",
   "execution_count": null,
   "id": "0fdf72e7-0acb-424a-bc9d-5d4c15e288d6",
   "metadata": {},
   "outputs": [],
   "source": [
    "# average raw values based on target and ssu\n",
    "merged_dat = crop_rdf.merge(crop_data[['ImageNumber', 'NucleolusNumber', 'SSU', 'target', 'image_class']], left_on=['ImageNumber', 'ObjectNumber'], right_on=['ImageNumber', 'NucleolusNumber'])\n",
    "groups = ['SSU', 'target', 'channel', 'radius', 'image_class']\n",
    "channels = ['', 'target', 'Nop56', '18S', 'NPM1']\n",
    "rdf_data = []\n",
    "for name, dat in merged_dat.groupby(groups):\n",
    "    rdf_data.append(dict(\n",
    "        zip(groups, name),\n",
    "        intensity=((dat['intensity'] * dat['counts']).fillna(0).sum()) / dat['counts'].sum(),\n",
    "        channel=channels[name[2]]\n",
    "    ))\n",
    "rdf_data = pd.DataFrame(rdf_data)         \n",
    "rdf_data"
   ]
  },
  {
   "cell_type": "code",
   "execution_count": null,
   "id": "7fc67ce4-dc37-4809-8a26-9937007c422e",
   "metadata": {},
   "outputs": [],
   "source": [
    "target_dat = rdf_data[\n",
    "    (rdf_data.SSU == \"WTSSU\") &\n",
    "    (rdf_data.image_class == \"endogenous\") &\n",
    "    (rdf_data.channel == \"target\")\n",
    "    ].copy()\n",
    "target_dat['normalized_intensity'] = target_dat.groupby('target').intensity.transform(lambda x: (x - x.min()) / (x.max() - x.min()), )\n",
    "\n",
    "npm_dat = rdf_data[\n",
    "        (rdf_data.SSU == \"WTSSU\") &\n",
    "        (rdf_data.image_class == \"endogenous\") &\n",
    "        (rdf_data.channel == \"Nop56\")\n",
    "    ].copy()\n",
    "npm_dat['normalized_intensity'] = npm_dat.groupby('target').intensity.transform(lambda x: (x - x.min()) / (x.max() - x.min()), )"
   ]
  },
  {
   "cell_type": "code",
   "execution_count": null,
   "id": "08afc48e-adcb-4bb7-9977-c441cfc6ad7d",
   "metadata": {},
   "outputs": [],
   "source": [
    "# all targets, only de novo, only WT, normalized\n",
    "ax = sns.lineplot(\n",
    "    data=target_dat,\n",
    "    x='radius',\n",
    "    y='normalized_intensity',\n",
    "    hue='target',\n",
    ")\n",
    "sns.lineplot(\n",
    "    data=npm_dat,\n",
    "    x='radius',\n",
    "    y='normalized_intensity',\n",
    "    linestyle='--',\n",
    "    c='k',\n",
    "    ax=ax\n",
    ")\n",
    "             "
   ]
  },
  {
   "cell_type": "code",
   "execution_count": null,
   "id": "b8c718d4-2e8b-4741-9b3d-427548ca59d5",
   "metadata": {},
   "outputs": [],
   "source": [
    "crop_data.columns"
   ]
  },
  {
   "cell_type": "code",
   "execution_count": null,
   "id": "fde1ad9a-5292-4aec-9e3c-3599910c44eb",
   "metadata": {},
   "outputs": [],
   "source": [
    "lbl = 'GC_area'\n",
    "sns.displot(data=crop_data, hue='image_class', col='SSU', kind='ecdf', x=lbl, facet_kws=dict(sharex=False))\n",
    "plt.savefig(f\"crop_SSU_{lbl}_dist.pdf\")"
   ]
  },
  {
   "cell_type": "markdown",
   "id": "d48325db-d22b-4abf-b832-f78c491a78af",
   "metadata": {},
   "source": [
    "## Additional targets"
   ]
  },
  {
   "cell_type": "code",
   "execution_count": null,
   "id": "f664b114-49ac-4d49-8bfe-4da3c74b8b6c",
   "metadata": {},
   "outputs": [],
   "source": [
    "data = []\n",
    "rdf = []\n",
    "d, r = read_data('SSU_IF_more_targets/SSU_more_targets/outputs/', regex=r'/[A-G]\\d+_+(?P<SSU>[^_]+).*_(?P<target>RPS6|surf6|RRP1|DDX21|nucleolin|EXOSC10|NAT10|ESF1|Nat10).*nd2')\n",
    "data.append(d.assign(nucleoli_type='de novo'))\n",
    "rdf.append(r)\n",
    "d, r = read_data('SSU_IF_more_targets/SSU_more_targets_endogenous/outputs/', regex=r'/(?:best_)?[A-G]\\d+_+(?P<SSU>[^_]+).*_(?P<target>RPS6|surf6|RRP1|DDX21|nucleolin|EXOSC10|NAT10|ESF1|Nat10).*nd2')\n",
    "data.append(d.assign(nucleoli_type='endogenous'))\n",
    "rdf.append(r)\n",
    "data = pd.concat(data, ignore_index=True)\n",
    "rdf = pd.concat(rdf, ignore_index=True)\n",
    "# fix typo, make consistent with other\n",
    "data['target'] = data.target.replace('Nat10', 'NAT10')\n",
    "data['SSU'] = data.SSU.replace('M437', 'SSUWT')\n",
    "data['SSU'] = data.SSU.replace('M438', 'SSUMut')\n",
    "data.to_csv('cropped_images/more_targets_nucleoli_renamed.csv')"
   ]
  },
  {
   "cell_type": "code",
   "execution_count": null,
   "id": "242cd719-6c60-4857-89e6-b5b54067159c",
   "metadata": {},
   "outputs": [],
   "source": [
    "sub_dat = data[data.Metadata_FileLocation.str.contains(\n",
    "    # r'(F6_M438_NPM1647_Fib568_18S488_ESF1405_z001_crop3)|'\n",
    "    r'(F6_M438_NPM1647_Fib568_18S488_ESF1405_z003_crop1%)'\n",
    "    # r'(E6_M437_NPM1647_Fib568_18S488_ESF1405_zstack_crop3)|'\n",
    "    # r'(E6_M437_NPM1647_Fib568_18S488_ESF1405_zstack_crop1)'\n",
    ")]\n",
    "print(\n",
    "sub_dat[[\n",
    "    'SSU',\n",
    "    'mean_Intensity_GC_GC',\n",
    "    'mean_Intensity_target_GC',\n",
    "    \n",
    "]])\n",
    "sub_dat.Metadata_FileLocation.unique()\n",
    "sub_dat.filter(like='mean_Intensity').T"
   ]
  },
  {
   "cell_type": "code",
   "execution_count": null,
   "id": "2fcce4a0-8f90-4646-98bc-1089bb357e4c",
   "metadata": {},
   "outputs": [],
   "source": [
    "sub_dat['Metadata_FileLocation'].unique()"
   ]
  },
  {
   "cell_type": "code",
   "execution_count": null,
   "id": "a972cde0-e255-4c52-8cdf-d4982c279716",
   "metadata": {},
   "outputs": [],
   "source": [
    "raw = pd.read_csv('SSU_IF/SSU_more_targets/outputs/InitialNucleoli.csv')\n",
    "raw.loc[raw.ImageNumber.isin([76, 78, 104, 109]), [c for c in raw.columns if c.startswith('Intensity_MeanIntensity_')]].T"
   ]
  },
  {
   "cell_type": "code",
   "execution_count": null,
   "id": "e1908e18-07df-4eb5-8c9a-2f05dbcd5e24",
   "metadata": {},
   "outputs": [],
   "source": [
    "sns.scatterplot(data=data, x='mean_Intensity_GC_GC', y='mean_Intensity_target_GC', hue='SSU', style='nucleoli_type')"
   ]
  },
  {
   "cell_type": "code",
   "execution_count": null,
   "id": "153e5720-03d4-4c54-ae0f-06ac2c9147f4",
   "metadata": {},
   "outputs": [],
   "source": [
    "# retain only de novo nucleoli\n",
    "to_keep = data.copy()\n",
    "de_novo = rdf.merge(to_keep[['ImageNumber', 'NucleolusNumber', 'SSU', 'target', 'nucleoli_type']], left_on=['ImageNumber', 'ObjectNumber'], right_on=['ImageNumber', 'NucleolusNumber'])"
   ]
  },
  {
   "cell_type": "code",
   "execution_count": null,
   "id": "580d4acc-24ab-4f8f-be7a-08314fa35b4f",
   "metadata": {},
   "outputs": [],
   "source": [
    "# average raw values based on target and ssu\n",
    "groups = ['SSU', 'target', 'channel', 'radius', 'nucleoli_type']\n",
    "channels = ['', 'NPM1', 'Fib568', '18S', 'target']\n",
    "rdf_data = []\n",
    "for name, dat in de_novo.groupby(groups):\n",
    "    rdf_data.append(dict(\n",
    "        zip(groups, name),\n",
    "        intensity=((dat['intensity'] * dat['counts']).fillna(0).sum()) / dat['counts'].sum(),\n",
    "        channel=channels[name[2]]\n",
    "    ))\n",
    "rdf_data = pd.DataFrame(rdf_data)         \n",
    "\n",
    "rdf_data.to_csv('cropped_images/more_targets_rdf_renamed.csv')"
   ]
  },
  {
   "cell_type": "markdown",
   "id": "d8350e0f-33d6-4ff1-9db1-828ab6fb2089",
   "metadata": {
    "jp-MarkdownHeadingCollapsed": true
   },
   "source": [
    "## Cropped Intensity"
   ]
  },
  {
   "cell_type": "code",
   "execution_count": null,
   "id": "15b49c70-f0bd-4d76-bb8a-152a40f76e3d",
   "metadata": {},
   "outputs": [],
   "source": [
    "data, _ = read_data('SSU_IF/cropped_intens/outputs/', regex=r'/[A-G]\\d+_+(?P<plasmid>[^_]+).*_(?P<star>28S|18S)488.*nd2')\n",
    "data"
   ]
  },
  {
   "cell_type": "code",
   "execution_count": null,
   "id": "beafc780-6580-42ab-94c8-4926b82e4439",
   "metadata": {},
   "outputs": [],
   "source": [
    "sns.relplot(data=data, x='mean_Intensity_GC_GC', y='mean_Intensity_DFC_GC', hue='star', col='plasmid')"
   ]
  },
  {
   "cell_type": "code",
   "execution_count": null,
   "id": "d915970b-26ca-4cb8-be51-e1a2be3703bf",
   "metadata": {},
   "outputs": [],
   "source": [
    "data.to_csv('GC_DFC_quantification.csv')"
   ]
  },
  {
   "cell_type": "code",
   "execution_count": null,
   "id": "4d7404da-dbfa-4b7d-b527-2ed2f0a61135",
   "metadata": {},
   "outputs": [],
   "source": [
    "data.T[0]"
   ]
  },
  {
   "cell_type": "code",
   "execution_count": null,
   "id": "dc18d245-da90-4594-8240-66a769765ec1",
   "metadata": {},
   "outputs": [],
   "source": [
    "data.drop(\n",
    "    columns=[c for c in data.columns if 'target' in c]).rename(\n",
    "    columns={c: c.replace('18S', '') for c in data.columns if '18Sstar' in c}).to_csv('GC_DFC_quantification.csv')"
   ]
  },
  {
   "cell_type": "markdown",
   "id": "270b83db-eb04-43d6-8e96-e4a01e578509",
   "metadata": {},
   "source": [
    "## Rim score"
   ]
  },
  {
   "cell_type": "code",
   "execution_count": null,
   "id": "f53a2ab1-f8d7-4747-a86e-8832324a2833",
   "metadata": {},
   "outputs": [],
   "source": [
    "def add_rim(result, directory, common, bins=1, total=10):\n",
    "    cols = open(directory / 'InitialNucleoli.csv').readline().split(',')\n",
    "    cols = [c for c in cols \n",
    "            if c.startswith('RadialDistribution_FracAtD')\n",
    "           ]\n",
    "    distributions = pd.read_csv(\n",
    "        directory / 'InitialNucleoli.csv', \n",
    "        usecols=common + cols,\n",
    "    )\n",
    "\n",
    "    bins = [i for i in range(total, total-bins, -1)]\n",
    "    relative_areas = distributions[[f'RadialDistribution_FracAtD_InitialNucleoliObjectImage_{bin}of{total}' for bin in bins]].sum(axis=1)\n",
    "    distributions['dfc_rim_enrichment'] = distributions[[f'RadialDistribution_FracAtD_DFC_{bin}of{total}' for bin in bins]].sum(axis=1) / relative_areas\n",
    "    distributions['fc_rim_enrichment'] = distributions[[f'RadialDistribution_FracAtD_FC_{bin}of{total}' for bin in bins]].sum(axis=1) / relative_areas\n",
    "        \n",
    "    map_cols = {\n",
    "        'dfc_rim_enrichment': 'dfc_rim_enrichment',\n",
    "        'fc_rim_enrichment': 'fc_rim_enrichment',\n",
    "    }\n",
    "    result = merge_result(result, distributions, map_cols)\n",
    "\n",
    "    return result\n",
    "\n",
    "def read_rim_data(directory, regex=None):\n",
    "    directory = Path(directory)\n",
    "    # image and object number are uniuqe identifiers.  Area is used a lot and the parent_mergedGC should correspond to a single cell\n",
    "    common = ['ImageNumber', 'ObjectNumber', 'Parent_DilatedNucleoli']\n",
    "\n",
    "    result = build_initial_data(directory, common, regex)\n",
    "\n",
    "    result = add_npm_partitioning(result, directory, common, other_name='FC')\n",
    "    result = add_rim(result, directory, common, bins=4, total=20)\n",
    "    \n",
    "    return result.drop(columns='Parent_DilatedNucleoli')\n",
    "\n",
    "data = read_rim_data('/scratch/gpfs/tcomi/cp_morphology_240617/SSU_rim/ssu_240801/outputs', \n",
    "                     regex=r'/SSU_rim/(?P<SSU>SSUWT|SSUmut)/.*nd2')\n",
    "data[data.isna().any(axis=1)].Metadata_FileLocation.unique()\n",
    "data"
   ]
  },
  {
   "cell_type": "code",
   "execution_count": null,
   "id": "551c7aaa-a23e-4b59-87a3-68e883a421de",
   "metadata": {},
   "outputs": [],
   "source": [
    "sns.scatterplot(data=data, hue='SSU', x='fc_rim_enrichment', y='dfc_rim_enrichment')"
   ]
  },
  {
   "cell_type": "code",
   "execution_count": null,
   "id": "50accc7d-71a2-4413-b6ab-2d1fa18c1690",
   "metadata": {},
   "outputs": [],
   "source": [
    "data.to_csv('ssu_rim_240801.csv')"
   ]
  },
  {
   "cell_type": "code",
   "execution_count": null,
   "id": "26eb1973-2bbc-45df-99cd-6f7205fd414f",
   "metadata": {},
   "outputs": [],
   "source": []
  }
 ],
 "metadata": {
  "kernelspec": {
   "display_name": "Python 3 (ipykernel)",
   "language": "python",
   "name": "python3"
  },
  "language_info": {
   "codemirror_mode": {
    "name": "ipython",
    "version": 3
   },
   "file_extension": ".py",
   "mimetype": "text/x-python",
   "name": "python",
   "nbconvert_exporter": "python",
   "pygments_lexer": "ipython3",
   "version": "3.11.4"
  }
 },
 "nbformat": 4,
 "nbformat_minor": 5
}
