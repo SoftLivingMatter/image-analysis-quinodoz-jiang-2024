{
 "cells": [
  {
   "cell_type": "code",
   "execution_count": null,
   "id": "3b0a28cd-0c97-4249-be9c-2c81d26eec9e",
   "metadata": {
    "tags": []
   },
   "outputs": [],
   "source": [
    "import pandas as pd\n",
    "import numpy as np\n",
    "import matplotlib\n",
    "import matplotlib.pyplot as plt\n",
    "import seaborn as sns\n",
    "\n",
    "from pathlib import Path\n",
    "import re\n",
    "import utils\n",
    "import functools\n",
    "\n",
    "%load_ext autoreload\n",
    "%autoreload 2"
   ]
  },
  {
   "cell_type": "code",
   "execution_count": null,
   "id": "df66618d-99d1-47f6-912f-35fa5d4e8fa2",
   "metadata": {
    "tags": []
   },
   "outputs": [],
   "source": [
    "def read_data(directory, regex=None, debug_regex=False):\n",
    "    directory = Path(directory)\n",
    "    # some variables reused below\n",
    "    extra_columns = ['ImageNumber', 'Parent_Cell']\n",
    "    \n",
    "    extras = {\n",
    "        'extra_columns': extra_columns,\n",
    "        'merge_fcn': functools.partial(utils.merge_result, merge_on=extra_columns)\n",
    "    }\n",
    "    \n",
    "    # Parse information from filename using the provided regex\n",
    "    result, _ = utils.analyze(directory / 'Image.csv', \n",
    "                              parsers=[\n",
    "                                  utils.ImageParser(regex, debug_regex=debug_regex),                              \n",
    "                              ])\n",
    "    # Combine with DilatedGC for using to merge with other measures\n",
    "    result, _ = utils.analyze(directory / 'Cell.csv',\n",
    "                              previous_result=result,\n",
    "                              parsers=[\n",
    "                                  utils.BlankParser(['ObjectNumber']),\n",
    "                              ],\n",
    "                              extra_columns=['ImageNumber', ],\n",
    "                              merge_fcn=functools.partial(utils.merge_result, merge_on=['ImageNumber'], how='left'),\n",
    "                             )\n",
    "    result, _ = utils.analyze(directory / 'Cell.csv',\n",
    "                              previous_result=result,\n",
    "                              parsers=[\n",
    "                                      utils.IntensityParser(images=['plasmid_star', 'endogenous_28S']),\n",
    "                              ],\n",
    "                              region='Cell',\n",
    "                              extra_columns=['ImageNumber', 'ObjectNumber'],\n",
    "                              merge_fcn=functools.partial(utils.merge_result, merge_on=['ImageNumber', 'ObjectNumber']),\n",
    "                             )\n",
    "    result = result.rename(columns={'ObjectNumber': 'Parent_Cell'})\n",
    "    \n",
    "    # Measure features from objects\n",
    "    for region in ('Nuclei', 'Cytoplasm'):\n",
    "        result, _ = utils.analyze(directory / f'{region}.csv',\n",
    "                                  previous_result=result,\n",
    "                                  parsers=[\n",
    "                                      utils.IntensityParser(images=['plasmid_star', 'endogenous_28S']),\n",
    "                                  ],\n",
    "                                  region=region,\n",
    "                                  **extras\n",
    "                                 )\n",
    "    return result\n",
    "\n",
    "data = read_data('/scratch/gpfs/tcomi/cp_paper_redo/exogenous_cytoplasm/testing/outputs', \n",
    "                 r'/[A-G]\\d+_(?P<treatment>[^_]+).*nd2$', \n",
    "                 )\n",
    "# data.loc[data.isna().any(axis=1), 'Metadata_FileLocation'].unique()\n",
    "data"
   ]
  },
  {
   "cell_type": "code",
   "execution_count": null,
   "id": "5b66b821-e664-4e76-8d1a-d8e8d3b2e907",
   "metadata": {
    "tags": []
   },
   "outputs": [],
   "source": [
    "sns.relplot(data=data, row='treatment', x='Cytoplasm_MeanIntensity_plasmid_star', y='Cell_MeanIntensity_plasmid_star')"
   ]
  },
  {
   "cell_type": "code",
   "execution_count": null,
   "id": "62f66a1f-1d7c-400f-897b-8ad097e9ede8",
   "metadata": {},
   "outputs": [],
   "source": [
    "sns.displot(data=data, hue='treatment', x='Cytoplasm_MeanIntensity_plasmid_star', kind='ecdf')"
   ]
  },
  {
   "cell_type": "code",
   "execution_count": null,
   "id": "bc9189b3-e2bf-48ab-937c-ab2351753b30",
   "metadata": {},
   "outputs": [],
   "source": []
  }
 ],
 "metadata": {
  "kernelspec": {
   "display_name": "Python 3 (ipykernel)",
   "language": "python",
   "name": "python3"
  },
  "language_info": {
   "codemirror_mode": {
    "name": "ipython",
    "version": 3
   },
   "file_extension": ".py",
   "mimetype": "text/x-python",
   "name": "python",
   "nbconvert_exporter": "python",
   "pygments_lexer": "ipython3",
   "version": "3.11.4"
  }
 },
 "nbformat": 4,
 "nbformat_minor": 5
}
