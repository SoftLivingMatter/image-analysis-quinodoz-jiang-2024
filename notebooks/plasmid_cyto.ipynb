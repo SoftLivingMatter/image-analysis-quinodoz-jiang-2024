{
 "cells": [
  {
   "cell_type": "code",
   "execution_count": null,
   "id": "3b0a28cd-0c97-4249-be9c-2c81d26eec9e",
   "metadata": {
    "tags": []
   },
   "outputs": [],
   "source": [
    "import pandas as pd\n",
    "import numpy as np\n",
    "import matplotlib\n",
    "import matplotlib.pyplot as plt\n",
    "import seaborn as sns\n",
    "import sklearn\n",
    "import sklearn.preprocessing\n",
    "import sklearn.decomposition\n",
    "import scipy\n",
    "\n",
    "from pathlib import Path\n",
    "import re"
   ]
  },
  {
   "cell_type": "code",
   "execution_count": null,
   "id": "df66618d-99d1-47f6-912f-35fa5d4e8fa2",
   "metadata": {
    "tags": []
   },
   "outputs": [],
   "source": [
    "def merge_result(result_df, df, map_cols, merge_on='Parent_Cell'):\n",
    "    return result_df.merge(\n",
    "        df[['ImageNumber', merge_on] + list(map_cols.keys())].rename(columns=map_cols),\n",
    "        on=['ImageNumber', merge_on],\n",
    "    )\n",
    "\n",
    "def build_initial_data(directory, common, regex):\n",
    "    gc = pd.read_csv(\n",
    "        directory / 'Cell.csv', \n",
    "        usecols=common,\n",
    "    )\n",
    "    \n",
    "    # read image metadata, mainly file location\n",
    "    images = pd.read_csv(directory / 'Image.csv', usecols=['Metadata_FileLocation', 'ImageNumber', 'Metadata_Series'])\n",
    "    \n",
    "    # add in regex of filename (time, treatment, etc)\n",
    "    if regex:\n",
    "        images = images.join(images['Metadata_FileLocation'].str.extract(regex))\n",
    "    \n",
    "    # start building the final result, with image number and merged_gc number (renamed to cell number)\n",
    "    result = gc[['ImageNumber', 'ObjectNumber']].drop_duplicates()\n",
    "    \n",
    "    # add image file location and regex info\n",
    "    result = result.merge(images, on='ImageNumber', how=\"left\")\n",
    "    result['Parent_Cell'] = result['ObjectNumber']\n",
    "\n",
    "    return result\n",
    "\n",
    "def add_cytoplasm(result, directory, common):\n",
    "    cyto = pd.read_csv(\n",
    "        directory / 'Cytoplasm.csv',\n",
    "        usecols=common + ['Intensity_MeanIntensity_plasmid_star', 'Intensity_MeanIntensity_plasmid_28S', \n",
    "                          'Parent_Cell',\n",
    "                         ])\n",
    "    map_cols = {\n",
    "        'Intensity_MeanIntensity_plasmid_star': 'mean_star_intensity_cyto',\n",
    "        'Intensity_MeanIntensity_plasmid_28S': 'mean_28S_intensity_cyto',\n",
    "    }\n",
    "    result = merge_result(result, cyto, map_cols)\n",
    "\n",
    "    return result\n",
    "\n",
    "def add_nucleus(result, directory, common):\n",
    "    nuc = pd.read_csv(\n",
    "        directory / 'Nuclei.csv',\n",
    "        usecols=common + ['Intensity_MeanIntensity_plasmid_star', 'Intensity_MeanIntensity_plasmid_28S', \n",
    "                          'Parent_Cell',\n",
    "                         ])\n",
    "    map_cols = {\n",
    "        'Intensity_MeanIntensity_plasmid_star': 'mean_star_intensity_nucleus',\n",
    "        'Intensity_MeanIntensity_plasmid_28S': 'mean_28S_intensity_nucleus',\n",
    "    }\n",
    "    result = merge_result(result, nuc, map_cols)\n",
    "\n",
    "    return result\n",
    "\n",
    "def add_cell(result, directory, common):\n",
    "    nuc = pd.read_csv(\n",
    "        directory / 'Cell.csv',\n",
    "        usecols=common + ['Intensity_MeanIntensity_plasmid_star', 'Intensity_MeanIntensity_plasmid_28S',\n",
    "                         ])\n",
    "    map_cols = {\n",
    "        'Intensity_MeanIntensity_plasmid_star': 'mean_star_intensity_cell',\n",
    "        'Intensity_MeanIntensity_plasmid_28S': 'mean_28S_intensity_cell',\n",
    "    }\n",
    "    result = merge_result(result, nuc, map_cols, merge_on='ObjectNumber')\n",
    "\n",
    "    return result\n",
    "    \n",
    "def read_data(directory, regex=None, bins=4):\n",
    "    directory = Path(directory)\n",
    "    # image and object number are uniuqe identifiers.  Area is used a lot and the parent_mergedGC should corresopnd to a single cell\n",
    "    common = ['ImageNumber', 'ObjectNumber']\n",
    "\n",
    "    result = build_initial_data(directory, common, regex)\n",
    "    \n",
    "    result = add_cytoplasm(result, directory, common)\n",
    "    \n",
    "    result = add_nucleus(result, directory, common)\n",
    "    \n",
    "    result = add_cell(result, directory, common)\n",
    "    \n",
    "    return result\n",
    "\n",
    "data = read_data('plasmid_cyto/plasmid/outputs/', \n",
    "                 r'/cytoplas?mic(?P<star>18S|28S)/[A-G]\\d+_(?P<treatment>[^_]+).*nd2$', \n",
    "                 )\n",
    "data.loc[data.isna().any(axis=1), 'Metadata_FileLocation'].unique()\n",
    "data"
   ]
  },
  {
   "cell_type": "code",
   "execution_count": null,
   "id": "512cb933-4933-4c77-84ba-86e9268462c0",
   "metadata": {
    "tags": []
   },
   "outputs": [],
   "source": [
    "data.to_csv('cytoplasmic_star_240730.csv')"
   ]
  },
  {
   "cell_type": "code",
   "execution_count": null,
   "id": "5b66b821-e664-4e76-8d1a-d8e8d3b2e907",
   "metadata": {
    "tags": []
   },
   "outputs": [],
   "source": [
    "sns.relplot(data = data, col='star', row='treatment', x='mean_star_intensity_cyto', y='mean_star_intensity_cell')"
   ]
  },
  {
   "cell_type": "code",
   "execution_count": null,
   "id": "62f66a1f-1d7c-400f-897b-8ad097e9ede8",
   "metadata": {},
   "outputs": [],
   "source": [
    "sns.displot(data = data, col='star', hue='treatment', x='mean_star_intensity_cyto', kind='ecdf')"
   ]
  },
  {
   "cell_type": "code",
   "execution_count": null,
   "id": "bc9189b3-e2bf-48ab-937c-ab2351753b30",
   "metadata": {},
   "outputs": [],
   "source": []
  }
 ],
 "metadata": {
  "kernelspec": {
   "display_name": "Python 3 (ipykernel)",
   "language": "python",
   "name": "python3"
  },
  "language_info": {
   "codemirror_mode": {
    "name": "ipython",
    "version": 3
   },
   "file_extension": ".py",
   "mimetype": "text/x-python",
   "name": "python",
   "nbconvert_exporter": "python",
   "pygments_lexer": "ipython3",
   "version": "3.11.4"
  }
 },
 "nbformat": 4,
 "nbformat_minor": 5
}
