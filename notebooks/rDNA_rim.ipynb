{
 "cells": [
  {
   "cell_type": "code",
   "execution_count": null,
   "id": "3b0a28cd-0c97-4249-be9c-2c81d26eec9e",
   "metadata": {
    "tags": []
   },
   "outputs": [],
   "source": [
    "import pandas as pd\n",
    "import numpy as np\n",
    "import matplotlib\n",
    "import matplotlib.pyplot as plt\n",
    "import seaborn as sns\n",
    "import sklearn\n",
    "import sklearn.preprocessing\n",
    "import sklearn.decomposition\n",
    "import scipy\n",
    "\n",
    "from pathlib import Path\n",
    "import re"
   ]
  },
  {
   "cell_type": "code",
   "execution_count": null,
   "id": "df66618d-99d1-47f6-912f-35fa5d4e8fa2",
   "metadata": {
    "tags": []
   },
   "outputs": [],
   "source": [
    "def merge_result(result_df, df, map_cols, merge_on='ObjectNumber'):\n",
    "    return result_df.merge(\n",
    "        df[['ImageNumber', merge_on] + list(map_cols.keys())].rename(columns=map_cols),\n",
    "        on=['ImageNumber', merge_on],\n",
    "    )\n",
    "\n",
    "def build_initial_data(directory, common, regex):\n",
    "    gc = pd.read_csv(\n",
    "        directory / 'GC.csv', \n",
    "        usecols=common,\n",
    "    )\n",
    "    \n",
    "    # read image metadata, mainly file location\n",
    "    images = pd.read_csv(directory / 'Image.csv', usecols=['Metadata_FileLocation', 'ImageNumber', 'Metadata_Series'])\n",
    "    \n",
    "    # add in regex of filename (time, treatment, etc)\n",
    "    if regex:\n",
    "        images = images.join(images['Metadata_FileLocation'].str.extract(regex))\n",
    "    \n",
    "    # start building the final result, with image number and merged_gc number (renamed to cell number)\n",
    "    result = gc[['ImageNumber', 'ObjectNumber']].drop_duplicates()\n",
    "    \n",
    "    # add image file location and regex info\n",
    "    result = result.merge(images, on='ImageNumber', how=\"left\")\n",
    "\n",
    "    return result\n",
    "\n",
    "def add_initial_gc(result, directory, common):\n",
    "    # read GC, plus intensities for GC and Probe and eccentricity\n",
    "    gc = pd.read_csv(\n",
    "        directory / 'GC.csv', \n",
    "        usecols=common + ['Intensity_MeanIntensity_FiveETS', \n",
    "                          'Intensity_MeanIntensity_plasmidStar', \n",
    "                          'Intensity_MaxIntensity_FiveETS', \n",
    "                          'Intensity_MaxIntensity_plasmidStar', \n",
    "                          'Intensity_UpperQuartileIntensity_FiveETS', \n",
    "                          'Intensity_UpperQuartileIntensity_plasmidStar', \n",
    "                          'AreaShape_Area'\n",
    "                         ])\n",
    "    map_cols = {\n",
    "        'Intensity_MeanIntensity_FiveETS': 'mean_5ETS_intensity_GC',\n",
    "        'Intensity_MeanIntensity_plasmidStar': 'mean_plasmidStar_intensity_GC',\n",
    "        'Intensity_MaxIntensity_FiveETS': 'max_5ETS_intensity_GC',\n",
    "        'Intensity_MaxIntensity_plasmidStar': 'max_plasmidStar_intensity_GC',\n",
    "        'Intensity_UpperQuartileIntensity_FiveETS': 'upperQuartile_5ETS_intensity_GC',\n",
    "        'Intensity_UpperQuartileIntensity_plasmidStar': 'upperQuartile_plasmidStar_intensity_GC',\n",
    "        'AreaShape_Area': 'Area_GC',\n",
    "    }\n",
    "    result = merge_result(result, gc, map_cols)\n",
    "\n",
    "    return result\n",
    "\n",
    "\n",
    "def add_rim(result, directory, common, bins=1, total=10):\n",
    "    cols = open(directory / 'GC.csv').readline().split(',')\n",
    "    cols = [c for c in cols \n",
    "            if c.startswith('RadialDistribution_FracAtD')\n",
    "           ]\n",
    "    distributions = pd.read_csv(\n",
    "        directory / 'GC.csv', \n",
    "        usecols=common + cols,\n",
    "    )\n",
    "\n",
    "    bins = [i for i in range(total, total-bins, -1)]\n",
    "    relative_areas = distributions[[f'RadialDistribution_FracAtD_GCObjectImage_{bin}of{total}' for bin in bins]].sum(axis=1)\n",
    "    distributions['dfc_rim_enrichment'] = distributions[[f'RadialDistribution_FracAtD_DFC_{bin}of{total}' for bin in bins]].sum(axis=1) / relative_areas\n",
    "    distributions['dfc_rim_enrichment_raw'] = distributions[[f'RadialDistribution_FracAtD_DFC_raw_{bin}of{total}' for bin in bins]].sum(axis=1) / relative_areas\n",
    "        \n",
    "    map_cols = {\n",
    "        'dfc_rim_enrichment': 'dfc_rim_enrichment',\n",
    "        'dfc_rim_enrichment_raw': 'dfc_rim_enrichment_raw',\n",
    "    }\n",
    "    result = merge_result(result, distributions, map_cols)\n",
    "\n",
    "    return result\n",
    "\n",
    "def add_correlation(result, directory, common):\n",
    "    # correlations over combined regions\n",
    "    cols = open(directory / 'DilatedGC.csv').readline().split(',')\n",
    "    cols = [c for c in cols \n",
    "            if c.startswith('Correlation_Correlation')\n",
    "            or c.startswith('Correlation_Overlap')\n",
    "           ]\n",
    "    corr = pd.read_csv(\n",
    "        directory / 'DilatedGC.csv', \n",
    "        usecols=common + cols,\n",
    "    )\n",
    "    \n",
    "    map_cols = {c: c[12:] for c in cols}\n",
    "    result = merge_result(result, corr, map_cols)\n",
    "    \n",
    "    return result\n",
    "    \n",
    "def read_data(directory, regex=None, bins=4):\n",
    "    directory = Path(directory)\n",
    "    # image and object number are uniuqe identifiers.  Area is used a lot and the parent_mergedGC should corresopnd to a single cell\n",
    "    common = ['ImageNumber', 'ObjectNumber']\n",
    "\n",
    "    result = build_initial_data(directory, common, regex)\n",
    "    \n",
    "    result = add_initial_gc(result, directory, common)\n",
    "    \n",
    "    result = add_rim(result, directory, common, bins, total=20)\n",
    "\n",
    "    result = add_correlation(result, directory, common)\n",
    "    \n",
    "    return result\n",
    "    \n",
    "data = read_data('SSU_cropped_overexpressed/SSU_240816/outputs/', \n",
    "                 r'/[A-G]\\d+_(?P<treatment>[^_]+).*_(?P<star>18S|28S)488.*nd2$', \n",
    "                 )\n",
    "data.loc[data.isna().any(axis=1), 'Metadata_FileLocation'].unique()\n"
   ]
  },
  {
   "cell_type": "code",
   "execution_count": null,
   "id": "5b66b821-e664-4e76-8d1a-d8e8d3b2e907",
   "metadata": {
    "tags": []
   },
   "outputs": [],
   "source": [
    "data = pd.concat([\n",
    "    read_data('SSU_cropped_IF/SSU_IF/outputs', \n",
    "                 r'/(?P<nucleoli_type>Denovo|Endogenous)/[A-G]\\d+_(?P<treatment>[^_]+).*_(?P<star>18S|28S)plasmid.*nd2$', \n",
    "                 ).assign(exp='IF'),\n",
    "    read_data('SSU_cropped_IF/SSU_240730/outputs', \n",
    "                 r'/(?P<nucleoli_type>Denovo|Endogenous)/[A-G]\\d+_(?P<treatment>[^_]+).*_(?P<star>18S|28S)plasmid.*nd2$', \n",
    "                 ).assign(exp='IF_240730'),\n",
    "    read_data('SSU_cropped_IF/SSU_240815/outputs/', \n",
    "                 r'/[A-G]\\d+(?:zstack)?_(?P<treatment>[^_]+).*_(?P<star>18S|28S)plasmid.*nd2$', \n",
    "                 ).assign(exp='IF_240815', nucleoli_type='Denovo'),\n",
    "    read_data('SSU_cropped_IF/SSU_240816/outputs/', \n",
    "                 r'/[A-G]\\d+(?:zstack)?_(?P<treatment>[^_]+).*_(?P<star>18S|28S)488.*nd2$', \n",
    "                 ).assign(exp='IF_240816', nucleoli_type='Denovo'),\n",
    "    read_data('SSU_cropped_overexpressed/SSU_overexpressed/outputs', \n",
    "                 r'/(?P<nucleoli_type>Denovo|Endogenous)/[A-G]\\d+_(?P<treatment>[^_]+).*_(?P<star>18S|28S)488.*nd2$', \n",
    "                 ).assign(exp='overexpressed'),\n",
    "    read_data('SSU_cropped_overexpressed/SSU_240730/outputs', \n",
    "                 r'/(?P<nucleoli_type>Denovo|Endogenous)/[A-G]\\d+_(?P<treatment>[^_]+).*_(?P<star>18S|28S)488.*nd2$', \n",
    "                 ).assign(exp='overexpressed_240730'),\n",
    "    read_data('SSU_cropped_overexpressed/SSU_240815/outputs/', \n",
    "                 r'/[A-G]\\d+_(?P<treatment>[^_]+).*_(?P<star>18S|28S)488.*nd2$', \n",
    "                 ).assign(exp='overexpressed_240815', nucleoli_type='Denovo'),\n",
    "], ignore_index=True)\n",
    "len(data)"
   ]
  },
  {
   "cell_type": "code",
   "execution_count": null,
   "id": "512cb933-4933-4c77-84ba-86e9268462c0",
   "metadata": {
    "tags": []
   },
   "outputs": [],
   "source": [
    "data.to_csv('rDNA_cropped_240816.csv')\n",
    "data.groupby(['exp', 'treatment', 'nucleoli_type', 'star']).ObjectNumber.count()"
   ]
  },
  {
   "cell_type": "code",
   "execution_count": null,
   "id": "b2ee12f7-998c-428e-a45e-9bbc9e6c4ab5",
   "metadata": {},
   "outputs": [],
   "source": [
    "data = read_data('SSU_cropped_overexpressed/SSU_240816/outputs/', \n",
    "                 r'/[A-G]\\d+_(?P<treatment>[^_]+).*_(?P<star>18S|28S)488.*nd2$', \n",
    "                ).rename(columns=lambda x: re.sub('5ETS', 'endo28S', x))\n",
    "data.to_csv('20240504_28Sendo_OE.csv')\n",
    "data.columns"
   ]
  },
  {
   "cell_type": "code",
   "execution_count": null,
   "id": "861615ac-3891-4249-b501-6a1f2361766d",
   "metadata": {},
   "outputs": [],
   "source": [
    "data"
   ]
  },
  {
   "cell_type": "code",
   "execution_count": null,
   "id": "62f66a1f-1d7c-400f-897b-8ad097e9ede8",
   "metadata": {},
   "outputs": [],
   "source": [
    "sns.relplot(data=data, x='mean_5ETS_intensity_GC', y='mean_plasmidStar_intensity_GC',\n",
    "            hue='nucleoli_type', col='star', style='treatment', row='exp',\n",
    "           )"
   ]
  },
  {
   "cell_type": "code",
   "execution_count": null,
   "id": "127c09b4-e53b-42a5-ba61-b628b3181da1",
   "metadata": {},
   "outputs": [],
   "source": [
    "sns.relplot(data=data[~data.exp.str.startswith('IF')], x='mean_plasmidStar_intensity_GC', y='Area_GC', hue='nucleoli_type', \n",
    "            col='star', style='treatment')#, facet_kws=dict(sharex='row'))"
   ]
  },
  {
   "cell_type": "code",
   "execution_count": null,
   "id": "842f0e72-af4c-4c5a-9142-94e0440aa58a",
   "metadata": {},
   "outputs": [],
   "source": [
    "sns.relplot(data=data, x='upperQuartile_plasmidStar_intensity_GC', y='Area_GC', \n",
    "            style='treatment', facet_kws=dict(sharex=False))"
   ]
  },
  {
   "cell_type": "code",
   "execution_count": null,
   "id": "080574f4-e353-4985-9f4e-ffe56879e3c8",
   "metadata": {},
   "outputs": [],
   "source": [
    "sns.displot(data=data[data.nucleoli_type == 'Denovo'], row='nucleoli_type',\n",
    "            x='dfc_rim_enrichment', hue='treatment', kind='ecdf')"
   ]
  },
  {
   "cell_type": "code",
   "execution_count": null,
   "id": "bae9b106-ad06-49c6-a1db-703efaa0b8eb",
   "metadata": {},
   "outputs": [],
   "source": [
    "sns.displot(data=data[data.nucleoli_type == 'Denovo'], row='nucleoli_type',\n",
    "            x='dfc_rim_enrichment_raw', hue='treatment', kind='ecdf')"
   ]
  },
  {
   "cell_type": "code",
   "execution_count": null,
   "id": "24c82b2a-d435-4ed0-9750-068e97ecbde1",
   "metadata": {},
   "outputs": [],
   "source": [
    "ax = sns.scatterplot(data=data, x='dfc_rim_enrichment', y='dfc_rim_enrichment_raw', hue='nucleoli_type')\n",
    "lims = [\n",
    "    np.min([ax.get_xlim(), ax.get_ylim()]),  # min of both axes\n",
    "    np.max([ax.get_xlim(), ax.get_ylim()]),  # max of both axes\n",
    "]\n",
    "\n",
    "# now plot both limits against eachother\n",
    "ax.plot(lims, lims, 'k-', alpha=0.75, zorder=0)\n",
    "ax.set_aspect('equal')\n",
    "ax.set_xlim(lims)\n",
    "ax.set_ylim(lims)"
   ]
  },
  {
   "cell_type": "markdown",
   "id": "a7382e37-de55-45b4-9fa9-cc8157546cfd",
   "metadata": {},
   "source": [
    "# Uncropped images"
   ]
  },
  {
   "cell_type": "code",
   "execution_count": null,
   "id": "70dd18f5-67bc-4478-880c-57ae50256b66",
   "metadata": {},
   "outputs": [],
   "source": [
    "data = pd.concat([\n",
    "    read_data('SSU_cropped_IF/SSU_240805/outputs', \n",
    "                 r'/[A-G]\\d+_(?P<treatment>[^_]+).*_(?P<star>18S|28S)plasmid.*nd2$', \n",
    "                 ).assign(exp='IF_240805'),\n",
    "    read_data('SSU_cropped_overexpressed/SSU_240805/outputs', \n",
    "                 r'/[A-G]\\d+_(?P<treatment>[^_]+).*_(?P<star>18S|28S)488.*nd2$', \n",
    "                 ).assign(exp='overexpressed_240805'),\n",
    "]).reset_index(drop=True)\n",
    "\n",
    "data.loc[data.isna().any(axis=1), 'Metadata_FileLocation'].unique()\n",
    "data.loc[data[['treatment', 'star']].isna().any(axis=1), 'Metadata_FileLocation'].unique()\n",
    "\n",
    "# remove zstacks\n",
    "data = data[~data.treatment.isna()]\n",
    "data.to_csv('SSU_uncropped_240805.csv')"
   ]
  },
  {
   "cell_type": "code",
   "execution_count": null,
   "id": "55b5c88e-cdf5-42c0-b90f-2b7509671be4",
   "metadata": {},
   "outputs": [],
   "source": [
    "data.columns"
   ]
  },
  {
   "cell_type": "code",
   "execution_count": null,
   "id": "8721c2ea-a612-4ced-b367-8ea18763b5c5",
   "metadata": {},
   "outputs": [],
   "source": [
    "sns.relplot(data=data, x='mean_5ETS_intensity_GC', y='mean_plasmidStar_intensity_GC', \n",
    "            col='exp', hue='treatment', facet_kws=dict(sharey='col'),\n",
    "            row='treatment',\n",
    "           )"
   ]
  },
  {
   "cell_type": "code",
   "execution_count": null,
   "id": "fb5e712f-9a85-426d-bab6-806a8bcb7ef2",
   "metadata": {},
   "outputs": [],
   "source": [
    "sns.relplot(data=data[(data.exp=='overexpressed_240805') & (data.treatment == 'M433')],\n",
    "            x='mean_5ETS_intensity_GC', y='mean_plasmidStar_intensity_GC', \n",
    "            row='Metadata_FileLocation',\n",
    "           )"
   ]
  },
  {
   "cell_type": "code",
   "execution_count": null,
   "id": "aa9a1401-5019-47ea-8414-e833e3fc936b",
   "metadata": {},
   "outputs": [],
   "source": []
  }
 ],
 "metadata": {
  "kernelspec": {
   "display_name": "Python 3 (ipykernel)",
   "language": "python",
   "name": "python3"
  },
  "language_info": {
   "codemirror_mode": {
    "name": "ipython",
    "version": 3
   },
   "file_extension": ".py",
   "mimetype": "text/x-python",
   "name": "python",
   "nbconvert_exporter": "python",
   "pygments_lexer": "ipython3",
   "version": "3.11.4"
  }
 },
 "nbformat": 4,
 "nbformat_minor": 5
}
