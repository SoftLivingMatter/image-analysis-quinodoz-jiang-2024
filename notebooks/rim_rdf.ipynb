{
 "cells": [
  {
   "cell_type": "code",
   "execution_count": null,
   "id": "3b0a28cd-0c97-4249-be9c-2c81d26eec9e",
   "metadata": {
    "tags": []
   },
   "outputs": [],
   "source": [
    "import pandas as pd\n",
    "import numpy as np\n",
    "import matplotlib\n",
    "import matplotlib.pyplot as plt\n",
    "import seaborn as sns\n",
    "\n",
    "from pathlib import Path\n",
    "import re\n",
    "import utils\n",
    "import functools\n",
    "\n",
    "%load_ext autoreload\n",
    "%autoreload 2"
   ]
  },
  {
   "cell_type": "code",
   "execution_count": null,
   "id": "df66618d-99d1-47f6-912f-35fa5d4e8fa2",
   "metadata": {
    "tags": []
   },
   "outputs": [],
   "source": [
    "def read_data(directory, regex=None, debug_regex=False):\n",
    "    directory = Path(directory)\n",
    "    # some variables reused below\n",
    "    extra_columns = ['ImageNumber', 'Parent_DilatedNucleoli']\n",
    "    \n",
    "    extras = {\n",
    "        'extra_columns': extra_columns,\n",
    "        'reduce': False,\n",
    "        'merge_fcn': functools.partial(utils.merge_result, merge_on=extra_columns)\n",
    "    }\n",
    "    \n",
    "    # Parse information from filename using the provided regex\n",
    "    result, _ = utils.analyze(directory / 'Image.csv', \n",
    "                              parsers=[\n",
    "                                  utils.ImageParser(regex, debug_regex=debug_regex),                              \n",
    "                              ])\n",
    "    # Combine with DilatedGC for using to merge with other measures\n",
    "    result, _ = utils.analyze(directory / 'InitialNucleoli.csv',\n",
    "                              previous_result=result,\n",
    "                              parsers=[utils.BlankParser(['Parent_DilatedNucleoli'])],\n",
    "                              extra_columns=['ImageNumber', ],\n",
    "                              merge_fcn=functools.partial(utils.merge_result, merge_on=['ImageNumber'], how='left'),\n",
    "                             )\n",
    "    \n",
    "    # Measure features from GC objects\n",
    "    result, _ = utils.analyze(directory / 'InitialNucleoli.csv',\n",
    "                              previous_result=result,\n",
    "                              parsers=[\n",
    "                                  utils.ShapeParser(),\n",
    "                                  utils.IntensityParser(images=['NOP56', 'NPM1', 'starPlasmid', 'PF']),\n",
    "                              ],\n",
    "                              region='GC',\n",
    "                              **extras\n",
    "                             )\n",
    "    \n",
    "    # Measure features from nucleoplasm rim\n",
    "    result, _ = utils.analyze(directory / 'NucleoplasmRim.csv',\n",
    "                              previous_result=result,\n",
    "                              parsers=[\n",
    "                                  utils.IntensityParser(images=['NOP56', 'NPM1', 'starPlasmid', 'PF']),\n",
    "                              ],\n",
    "                              region='Rim',\n",
    "                              **extras\n",
    "                             )\n",
    "    \n",
    "    # Measure rdf\n",
    "    result, extra = utils.analyze(directory / 'DilatedNucleoli.csv',\n",
    "                              previous_result=result,\n",
    "                              parsers=[\n",
    "                                  utils.RDFParser(id_vars=['ImageNumber', 'ObjectNumber']),\n",
    "                              ],\n",
    "                              merge_fcn=lambda x: x\n",
    "                             )\n",
    "    \n",
    "    return result, extra[0]\n",
    "    \n",
    "data, rdf = read_data('/scratch/gpfs/tcomi/cp_paper_redo/rim_rdf/testing/outputs', \n",
    "                      regex=r'/[A-G]\\d+_+(?P<treatment>[^_]+).*_(?P<target>RPS6|surf6|RRP1|DDX21|nucleolin|EXOSC10|NAT1).*nd2')\n",
    "data.T"
   ]
  },
  {
   "cell_type": "markdown",
   "id": "ddd6db46-a0e6-4851-9673-227a14e95524",
   "metadata": {},
   "source": [
    "## RDF curves"
   ]
  },
  {
   "cell_type": "code",
   "execution_count": null,
   "id": "57c1a303-edd2-4630-9efb-c9cc579acfff",
   "metadata": {},
   "outputs": [],
   "source": [
    "to_keep = data.copy()\n",
    "de_novo = rdf.merge(to_keep[['ImageNumber', 'Parent_DilatedNucleoli', 'treatment', 'target']], \n",
    "                    left_on=['ImageNumber', 'ObjectNumber'], \n",
    "                    right_on=['ImageNumber', 'Parent_DilatedNucleoli'])"
   ]
  },
  {
   "cell_type": "code",
   "execution_count": null,
   "id": "6ab96bf9-6ce7-4f62-86f6-991a0f60d755",
   "metadata": {},
   "outputs": [],
   "source": [
    "# average values based on target and ssu\n",
    "groups = ['treatment', 'target', 'channel']\n",
    "channels = ['', 'target', 'NOP56', '18S', 'NPM1']\n",
    "rdf_data = []\n",
    "for name, dat in de_novo.groupby(groups):\n",
    "    pivoted = dat.pivot_table(columns='radius', values=['intensity', 'counts'], index=['ImageNumber', 'ObjectNumber'])\n",
    "    average_intens = ((pivoted['intensity'] * pivoted['counts']).fillna(0).sum()) / pivoted['counts'].sum()\n",
    "    mn, mx = pivoted['intensity'].min(), pivoted['intensity'].max()\n",
    "    normed = (pivoted['intensity'] - mn) / (mx - mn)\n",
    "    \n",
    "    sem = np.sqrt((((normed - normed.mean())**2) * pivoted['counts']).sum() / pivoted['counts'].sum()) / np.sqrt(len(normed))\n",
    "    mn, mx = average_intens.min(), average_intens.max()\n",
    "    norm_intens = (average_intens - mn) / (mx - mn)\n",
    "    for radius, vals in pd.concat([norm_intens, sem], axis=1).iterrows():\n",
    "        rdf_data.append(dict(\n",
    "            zip(groups, name),\n",
    "            norm_intensity=vals[0],\n",
    "            sem=vals[1],\n",
    "            channel=channels[name[2]],\n",
    "            radius=radius,\n",
    "        ))\n",
    "rdf_data = pd.DataFrame(rdf_data)"
   ]
  },
  {
   "cell_type": "code",
   "execution_count": null,
   "id": "67538492-f6c8-460c-a6dc-05f0b0b85dca",
   "metadata": {},
   "outputs": [],
   "source": [
    "g = sns.relplot(data=rdf_data, x='radius', y='norm_intensity', \n",
    "            col='channel', row='target', kind='line', style='treatment', \n",
    "            facet_kws=dict(sharex=True, sharey=False))\n",
    "\n",
    "for (target, channel), ax in g.axes_dict.items():\n",
    "    sub_dat = rdf_data[(rdf_data.channel==channel) & (rdf_data.target == target)]\n",
    "    ax.fill_between(sub_dat.radius, sub_dat.norm_intensity - sub_dat['sem'], sub_dat.norm_intensity + sub_dat['sem'], alpha=0.3)"
   ]
  },
  {
   "cell_type": "code",
   "execution_count": null,
   "id": "745e11b0-bbff-44d0-9d7b-f3d53c1faf65",
   "metadata": {},
   "outputs": [],
   "source": []
  }
 ],
 "metadata": {
  "kernelspec": {
   "display_name": "Python 3 (ipykernel)",
   "language": "python",
   "name": "python3"
  },
  "language_info": {
   "codemirror_mode": {
    "name": "ipython",
    "version": 3
   },
   "file_extension": ".py",
   "mimetype": "text/x-python",
   "name": "python",
   "nbconvert_exporter": "python",
   "pygments_lexer": "ipython3",
   "version": "3.11.4"
  }
 },
 "nbformat": 4,
 "nbformat_minor": 5
}
