{
 "cells": [
  {
   "cell_type": "code",
   "execution_count": null,
   "id": "3b0a28cd-0c97-4249-be9c-2c81d26eec9e",
   "metadata": {
    "tags": []
   },
   "outputs": [],
   "source": [
    "import pandas as pd\n",
    "import numpy as np\n",
    "import matplotlib\n",
    "import matplotlib.pyplot as plt\n",
    "import seaborn as sns\n",
    "\n",
    "from pathlib import Path\n",
    "import re\n",
    "import utils\n",
    "import functools\n",
    "\n",
    "%load_ext autoreload\n",
    "%autoreload 2"
   ]
  },
  {
   "cell_type": "code",
   "execution_count": null,
   "id": "df66618d-99d1-47f6-912f-35fa5d4e8fa2",
   "metadata": {
    "tags": []
   },
   "outputs": [],
   "source": [
    "def read_data(directory, regex=None):\n",
    "    directory = Path(directory)\n",
    "    # some variables reused below\n",
    "    extra_columns = ['ImageNumber', 'Parent_DilatedNucleoli']\n",
    "    \n",
    "    extras = {\n",
    "        'extra_columns': extra_columns,\n",
    "        'reduce': False,\n",
    "        'merge_fcn': functools.partial(utils.merge_result, merge_on=extra_columns)\n",
    "    }\n",
    "    \n",
    "    # Parse information from filename using the provided regex\n",
    "    result, _ = utils.analyze(directory / 'Image.csv', \n",
    "                              parsers=[\n",
    "                                  utils.ImageParser(regex, debug_regex=debug_regex),                              \n",
    "                              ])\n",
    "    # Combine with DilatedGC for using to merge with other measures\n",
    "    result, _ = utils.analyze(directory / 'InitialNucleoli.csv',\n",
    "                              previous_result=result,\n",
    "                              parsers=[utils.BlankParser(['Parent_DilatedNucleoli'])],\n",
    "                              extra_columns=['ImageNumber', ],\n",
    "                              merge_fcn=functools.partial(utils.merge_result, merge_on=['ImageNumber'], how='left'),\n",
    "                             )\n",
    "    \n",
    "    # Measure features from GC objects\n",
    "    result, _ = utils.analyze(directory / 'InitialNucleoli.csv',\n",
    "                              previous_result=result,\n",
    "                              parsers=[\n",
    "                                  utils.ShapeParser(),\n",
    "                                  utils.IntensityParser(images=['NOP56', 'NPM1', 'starPlasmid', 'PF']),\n",
    "                              ],\n",
    "                              region='GC',\n",
    "                              **extras\n",
    "                             )\n",
    "    \n",
    "    # Measure features from nucleoplasm rim\n",
    "    result, _ = utils.analyze(directory / 'NucleoplasmRim.csv',\n",
    "                              previous_result=result,\n",
    "                              parsers=[\n",
    "                                  utils.IntensityParser(images=['NOP56', 'NPM1', 'starPlasmid', 'PF']),\n",
    "                              ],\n",
    "                              region='Rim',\n",
    "                              **extras\n",
    "                             )\n",
    "    \n",
    "    # Measure rdf\n",
    "    result, extra = utils.analyze(directory / 'DilatedNucleoli.csv',\n",
    "                              previous_result=result,\n",
    "                              parsers=[\n",
    "                                  utils.RDFParser(id_vars=['ImageNumber', 'ObjectNumber']),\n",
    "                              ],\n",
    "                              merge_fcn=lambda x: x\n",
    "                             )\n",
    "    \n",
    "    return result, extra[0]\n",
    "    \n",
    "data, rdf = read_data('/scratch/gpfs/tcomi/cp_paper_redo/rim_rdf/testing/outputs', \n",
    "                      regex=r'/[A-G]\\d+_+(?P<treatment>[^_]+).*_(?P<target>RPS6|surf6|RRP1|DDX21|nucleolin|EXOSC10|NAT1).*nd2')\n",
    "data.T"
   ]
  },
  {
   "cell_type": "markdown",
   "id": "ddd6db46-a0e6-4851-9673-227a14e95524",
   "metadata": {},
   "source": [
    "## RDF curves"
   ]
  },
  {
   "cell_type": "code",
   "execution_count": null,
   "id": "57c1a303-edd2-4630-9efb-c9cc579acfff",
   "metadata": {},
   "outputs": [],
   "source": [
    "to_keep = data.copy()\n",
    "de_novo = rdf.merge(to_keep[['ImageNumber', 'Parent_DilatedNucleoli', 'treatment', 'target']], \n",
    "                    left_on=['ImageNumber', 'ObjectNumber'], \n",
    "                    right_on=['ImageNumber', 'Parent_DilatedNucleoli'])"
   ]
  },
  {
   "cell_type": "code",
   "execution_count": null,
   "id": "6ab96bf9-6ce7-4f62-86f6-991a0f60d755",
   "metadata": {},
   "outputs": [],
   "source": [
    "# average raw values based on target and ssu\n",
    "groups = ['treatment', 'target', 'channel', 'radius',]\n",
    "channels = ['', 'target', 'NOP56', '18S', 'NPM1']\n",
    "rdf_data = []\n",
    "for name, dat in de_novo.groupby(groups):\n",
    "    rdf_data.append(dict(\n",
    "        zip(groups, name),\n",
    "        intensity=((dat['intensity'] * dat['counts']).fillna(0).sum()) / dat['counts'].sum(),\n",
    "        channel=channels[name[2]]\n",
    "    ))\n",
    "rdf_data = pd.DataFrame(rdf_data)         "
   ]
  },
  {
   "cell_type": "code",
   "execution_count": null,
   "id": "67538492-f6c8-460c-a6dc-05f0b0b85dca",
   "metadata": {},
   "outputs": [],
   "source": [
    "sns.relplot(data=rdf_data, x='radius', y='intensity', \n",
    "            col='channel', row='target', kind='line', style='treatment', \n",
    "            facet_kws=dict(sharex=True, sharey=False))"
   ]
  },
  {
   "cell_type": "code",
   "execution_count": null,
   "id": "01cf988c-05be-4ef6-8225-2320c588197f",
   "metadata": {},
   "outputs": [],
   "source": [
    "import aicsimageio\n",
    "import urllib.parse\n",
    "import warnings\n",
    "\n",
    "radius = 100\n",
    "to_show = to_show = data[\n",
    "  (data.GC_area > 400) &\n",
    "  (data.Center_X > radius) &\n",
    "  (data.Center_Y > radius) &\n",
    "  (data.Center_X < 2254 - radius) &\n",
    "  (data.Center_Y < 2254 - radius)\n",
    "].copy().sort_values(by='mean_Intensity_18Sstar_GC', ascending=False).reset_index(drop=True)\n",
    "\n",
    "to_show.to_csv('manual_samples.csv')\n",
    "selected = pd.read_csv('cropped_images/Lifei_SSUdenovo.csv')\n",
    "# selected\n",
    "# selected = to_show.iloc[selected['row number']]\n",
    "\n",
    "# fig, axes = plt.subplots(1, 4, figsize=(12, 3))\n",
    "fig, axes = plt.subplots(11, 8, figsize=(24, 33))\n",
    "df = to_show.iloc[88::89]\n",
    "rows = df.iterrows()\n",
    "imgs = {}\n",
    "with warnings.catch_warnings():\n",
    "    warnings.simplefilter(\"ignore\")  # tight layout warning\n",
    "    for page in range(1, len(df) // 88 + 2):\n",
    "        for ax, (ind, row) in zip(axes.flatten(), rows):\n",
    "            img_name = urllib.parse.unquote(row.Metadata_FileLocation)\n",
    "            if img_name not in imgs:\n",
    "                im = aicsimageio.imread(img_name).squeeze()\n",
    "                # normalize\n",
    "                imgs[img_name] = ((im - im.min(axis=(1, 2), keepdims=True)) / \n",
    "                    (im.max(axis=(1, 2), keepdims=True) - im.min(axis=(1, 2), keepdims=True))).copy()\n",
    "            img = imgs[img_name]\n",
    "            sub_img = np.zeros((radius*2, radius*2, 3))\n",
    "            \n",
    "            # channels = ['', 'target', 'Nop56', '18S', 'NPM1']\n",
    "            x, y = int(row.Center_Y), int(row.Center_X)\n",
    "            sub_img[:, :, 0] = img[1, x-radius:x+radius, y-radius:y+radius]  # red is nop56\n",
    "            sub_img[:, :, 1] = img[2, x-radius:x+radius, y-radius:y+radius]  # green is 18S\n",
    "            # sub_img[:, :, 2] = img[2, x-radius:x+radius, y-radius:y+radius]  # green is target\n",
    "            ax.clear()\n",
    "            ax.imshow(sub_img)\n",
    "            ax.set_title(f'{ind} - {x} - {y} - {row.ImageNumber}')\n",
    "            ax.set_axis_off()\n",
    "            \n",
    "        plt.tight_layout()\n",
    "        plt.savefig(f'cropped_images/unseen_{page:02}.pdf')\n"
   ]
  },
  {
   "cell_type": "code",
   "execution_count": null,
   "id": "165139cb-c9cc-4aba-864f-13e101c69351",
   "metadata": {},
   "outputs": [],
   "source": [
    "selected = pd.read_csv('cropped_images/Lifei_SSUdenovo.csv')\n",
    "exclude = pd.read_csv('cropped_images/subset_lifei_SSU_sofi_to_exclude.txt', header=None)\n",
    "selected = selected[~selected['row number'].isin(exclude[0])]\n",
    "selected = pd.concat((to_show.iloc[selected['row number']], to_show.iloc[1958:]))\n",
    "selected.to_csv('cropped_images/selected_nucleoli.csv')"
   ]
  },
  {
   "cell_type": "code",
   "execution_count": null,
   "id": "effe4738-ba3a-4025-a64c-37252e6661dd",
   "metadata": {},
   "outputs": [],
   "source": [
    "manual = pd.read_csv('cropped_images/selected_nucleoli.csv', index_col=0)\n",
    "manual['nucleoli_type'] = 'de novo'\n",
    "manual.loc[1958:, 'nucleoli_type'] = 'endogenous'\n",
    "\n",
    "def found_in_manual(row):\n",
    "    in_img = manual[manual.Metadata_FileLocation == row.Metadata_FileLocation]\n",
    "    dists = scipy.spatial.distance.cdist(np.expand_dims(row[['Center_X', 'Center_Y']].to_numpy(float), axis=0), in_img[['Center_X', 'Center_Y']].to_numpy())\n",
    "    return dists.size > 0 and dists.min() < 1\n",
    "    \n",
    "data = data[data.apply(found_in_manual, axis=1)]\n",
    "len(data)"
   ]
  },
  {
   "cell_type": "code",
   "execution_count": null,
   "id": "7e0f9f97-da7a-4ef4-be36-665acb7bd306",
   "metadata": {},
   "outputs": [],
   "source": [
    "# add in class from manual    \n",
    "def manual_class(row):\n",
    "    in_img = manual[manual.Metadata_FileLocation == row.Metadata_FileLocation]\n",
    "    dists = scipy.spatial.distance.cdist(np.expand_dims(row[['Center_X', 'Center_Y']].to_numpy(float), axis=0), in_img[['Center_X', 'Center_Y']].to_numpy())\n",
    "    return in_img.iloc[dists.argmin()]['nucleoli_type']\n",
    "\n",
    "data['nucleoli_type'] = data.apply(manual_class, axis=1)"
   ]
  },
  {
   "cell_type": "code",
   "execution_count": null,
   "id": "837f5ce8-c1e9-4593-9058-330aaec61610",
   "metadata": {},
   "outputs": [],
   "source": [
    "data.to_csv('cropped_images/bkg_corr_nucleoli.csv')"
   ]
  },
  {
   "cell_type": "code",
   "execution_count": null,
   "id": "8a6ddbb9-1bb9-4775-a647-6b1c5f43fba8",
   "metadata": {},
   "outputs": [],
   "source": [
    "crop_data, crop_rdf = read_data('/home/tcomi/Desktop/cp_outputs/SSU_test_raw', regex=r'SSU_IF/cropped/(?P<image_class>denoised|endogenous).*/[A-G]\\d+_+(?P<SSU>WTSSU|mutSSU).*_(?P<target>RPS6|surf6|RRP1|DDX21|nucleolin|EXOSC10).*nd2')\n",
    "crop_data.loc[crop_data.image_class == 'denoised', 'image_class'] = 'de novo'"
   ]
  },
  {
   "cell_type": "code",
   "execution_count": null,
   "id": "1fdb6662-d1a5-4126-baac-4a2e2cbc87e8",
   "metadata": {},
   "outputs": [],
   "source": [
    "crop_data.groupby(['target', 'image_class', 'SSU']).Count_GC.count()\n",
    "(crop_data.image_class != 'de novo').sum()\n",
    "# crop_data.to_csv('cropped_ssu.csv')"
   ]
  },
  {
   "cell_type": "code",
   "execution_count": null,
   "id": "5403f766-db86-44e9-9bac-0cea0727328d",
   "metadata": {},
   "outputs": [],
   "source": [
    "# Use size distribution to estimate a high pass threshold\n",
    "\n",
    "sns.histplot(x='GC_area', data=crop_data[crop_data.GC_area < 1000], hue='image_class')"
   ]
  },
  {
   "cell_type": "code",
   "execution_count": null,
   "id": "2804607d-1c2d-433a-9718-7bc8a40bb4b6",
   "metadata": {},
   "outputs": [],
   "source": [
    "# ax = sns.scatterplot(data=crop_data, x='partitioning_18Sstar', y='GC_area', hue='image_class')\n",
    "ax = sns.scatterplot(data=crop_data, x='mean_Intensity_18Sstar_GC', y='GC_area', hue='image_class')\n",
    "\n",
    "ax.axvline(0.0025)\n",
    "ax.axvline(0.004)\n",
    "ax.axhline(3000)\n",
    "ax.axhline(300)"
   ]
  },
  {
   "cell_type": "code",
   "execution_count": null,
   "id": "0fdf72e7-0acb-424a-bc9d-5d4c15e288d6",
   "metadata": {},
   "outputs": [],
   "source": [
    "# average raw values based on target and ssu\n",
    "merged_dat = crop_rdf.merge(crop_data[['ImageNumber', 'NucleolusNumber', 'SSU', 'target', 'image_class']], left_on=['ImageNumber', 'ObjectNumber'], right_on=['ImageNumber', 'NucleolusNumber'])\n",
    "groups = ['SSU', 'target', 'channel', 'radius', 'image_class']\n",
    "channels = ['', 'target', 'Nop56', '18S', 'NPM1']\n",
    "rdf_data = []\n",
    "for name, dat in merged_dat.groupby(groups):\n",
    "    rdf_data.append(dict(\n",
    "        zip(groups, name),\n",
    "        intensity=((dat['intensity'] * dat['counts']).fillna(0).sum()) / dat['counts'].sum(),\n",
    "        channel=channels[name[2]]\n",
    "    ))\n",
    "rdf_data = pd.DataFrame(rdf_data)         \n",
    "rdf_data"
   ]
  },
  {
   "cell_type": "code",
   "execution_count": null,
   "id": "7fc67ce4-dc37-4809-8a26-9937007c422e",
   "metadata": {},
   "outputs": [],
   "source": [
    "target_dat = rdf_data[\n",
    "    (rdf_data.SSU == \"WTSSU\") &\n",
    "    (rdf_data.image_class == \"endogenous\") &\n",
    "    (rdf_data.channel == \"target\")\n",
    "    ].copy()\n",
    "target_dat['normalized_intensity'] = target_dat.groupby('target').intensity.transform(lambda x: (x - x.min()) / (x.max() - x.min()), )\n",
    "\n",
    "npm_dat = rdf_data[\n",
    "        (rdf_data.SSU == \"WTSSU\") &\n",
    "        (rdf_data.image_class == \"endogenous\") &\n",
    "        (rdf_data.channel == \"Nop56\")\n",
    "    ].copy()\n",
    "npm_dat['normalized_intensity'] = npm_dat.groupby('target').intensity.transform(lambda x: (x - x.min()) / (x.max() - x.min()), )"
   ]
  },
  {
   "cell_type": "code",
   "execution_count": null,
   "id": "08afc48e-adcb-4bb7-9977-c441cfc6ad7d",
   "metadata": {},
   "outputs": [],
   "source": [
    "# all targets, only de novo, only WT, normalized\n",
    "ax = sns.lineplot(\n",
    "    data=target_dat,\n",
    "    x='radius',\n",
    "    y='normalized_intensity',\n",
    "    hue='target',\n",
    ")\n",
    "sns.lineplot(\n",
    "    data=npm_dat,\n",
    "    x='radius',\n",
    "    y='normalized_intensity',\n",
    "    linestyle='--',\n",
    "    c='k',\n",
    "    ax=ax\n",
    ")\n",
    "             "
   ]
  },
  {
   "cell_type": "code",
   "execution_count": null,
   "id": "b8c718d4-2e8b-4741-9b3d-427548ca59d5",
   "metadata": {},
   "outputs": [],
   "source": [
    "crop_data.columns"
   ]
  },
  {
   "cell_type": "code",
   "execution_count": null,
   "id": "fde1ad9a-5292-4aec-9e3c-3599910c44eb",
   "metadata": {},
   "outputs": [],
   "source": [
    "lbl = 'GC_area'\n",
    "sns.displot(data=crop_data, hue='image_class', col='SSU', kind='ecdf', x=lbl, facet_kws=dict(sharex=False))\n",
    "plt.savefig(f\"crop_SSU_{lbl}_dist.pdf\")"
   ]
  },
  {
   "cell_type": "code",
   "execution_count": null,
   "id": "f664b114-49ac-4d49-8bfe-4da3c74b8b6c",
   "metadata": {},
   "outputs": [],
   "source": [
    "data = []\n",
    "rdf = []\n",
    "d, r = read_data('SSU_IF_more_targets/SSU_more_targets/outputs/', regex=r'/[A-G]\\d+_+(?P<SSU>[^_]+).*_(?P<target>RPS6|surf6|RRP1|DDX21|nucleolin|EXOSC10|NAT10|ESF1|Nat10).*nd2')\n",
    "data.append(d.assign(nucleoli_type='de novo'))\n",
    "rdf.append(r)\n",
    "d, r = read_data('SSU_IF_more_targets/SSU_more_targets_endogenous/outputs/', regex=r'/(?:best_)?[A-G]\\d+_+(?P<SSU>[^_]+).*_(?P<target>RPS6|surf6|RRP1|DDX21|nucleolin|EXOSC10|NAT10|ESF1|Nat10).*nd2')\n",
    "data.append(d.assign(nucleoli_type='endogenous'))\n",
    "rdf.append(r)\n",
    "data = pd.concat(data, ignore_index=True)\n",
    "rdf = pd.concat(rdf, ignore_index=True)\n",
    "# fix typo, make consistent with other\n",
    "data['target'] = data.target.replace('Nat10', 'NAT10')\n",
    "data['SSU'] = data.SSU.replace('M437', 'SSUWT')\n",
    "data['SSU'] = data.SSU.replace('M438', 'SSUMut')\n",
    "data.to_csv('cropped_images/more_targets_nucleoli_renamed.csv')"
   ]
  },
  {
   "cell_type": "code",
   "execution_count": null,
   "id": "242cd719-6c60-4857-89e6-b5b54067159c",
   "metadata": {
    "jupyter": {
     "source_hidden": true
    }
   },
   "outputs": [],
   "source": [
    "sub_dat = data[data.Metadata_FileLocation.str.contains(\n",
    "    # r'(F6_M438_NPM1647_Fib568_18S488_ESF1405_z001_crop3)|'\n",
    "    r'(F6_M438_NPM1647_Fib568_18S488_ESF1405_z003_crop1%)'\n",
    "    # r'(E6_M437_NPM1647_Fib568_18S488_ESF1405_zstack_crop3)|'\n",
    "    # r'(E6_M437_NPM1647_Fib568_18S488_ESF1405_zstack_crop1)'\n",
    ")]\n",
    "print(\n",
    "sub_dat[[\n",
    "    'SSU',\n",
    "    'mean_Intensity_GC_GC',\n",
    "    'mean_Intensity_target_GC',\n",
    "    \n",
    "]])\n",
    "sub_dat.Metadata_FileLocation.unique()\n",
    "sub_dat.filter(like='mean_Intensity').T"
   ]
  },
  {
   "cell_type": "code",
   "execution_count": null,
   "id": "2fcce4a0-8f90-4646-98bc-1089bb357e4c",
   "metadata": {},
   "outputs": [],
   "source": [
    "sub_dat['Metadata_FileLocation'].unique()"
   ]
  },
  {
   "cell_type": "code",
   "execution_count": null,
   "id": "a972cde0-e255-4c52-8cdf-d4982c279716",
   "metadata": {},
   "outputs": [],
   "source": [
    "raw = pd.read_csv('SSU_IF/SSU_more_targets/outputs/InitialNucleoli.csv')\n",
    "raw.loc[raw.ImageNumber.isin([76, 78, 104, 109]), [c for c in raw.columns if c.startswith('Intensity_MeanIntensity_')]].T"
   ]
  },
  {
   "cell_type": "code",
   "execution_count": null,
   "id": "e1908e18-07df-4eb5-8c9a-2f05dbcd5e24",
   "metadata": {},
   "outputs": [],
   "source": [
    "sns.scatterplot(data=data, x='mean_Intensity_GC_GC', y='mean_Intensity_target_GC', hue='SSU', style='nucleoli_type')"
   ]
  },
  {
   "cell_type": "code",
   "execution_count": null,
   "id": "153e5720-03d4-4c54-ae0f-06ac2c9147f4",
   "metadata": {},
   "outputs": [],
   "source": [
    "# retain only de novo nucleoli\n",
    "to_keep = data.copy()\n",
    "de_novo = rdf.merge(to_keep[['ImageNumber', 'NucleolusNumber', 'SSU', 'target', 'nucleoli_type']], left_on=['ImageNumber', 'ObjectNumber'], right_on=['ImageNumber', 'NucleolusNumber'])"
   ]
  },
  {
   "cell_type": "code",
   "execution_count": null,
   "id": "580d4acc-24ab-4f8f-be7a-08314fa35b4f",
   "metadata": {},
   "outputs": [],
   "source": [
    "# average raw values based on target and ssu\n",
    "groups = ['SSU', 'target', 'channel', 'radius', 'nucleoli_type']\n",
    "channels = ['', 'NPM1', 'Fib568', '18S', 'target']\n",
    "rdf_data = []\n",
    "for name, dat in de_novo.groupby(groups):\n",
    "    rdf_data.append(dict(\n",
    "        zip(groups, name),\n",
    "        intensity=((dat['intensity'] * dat['counts']).fillna(0).sum()) / dat['counts'].sum(),\n",
    "        channel=channels[name[2]]\n",
    "    ))\n",
    "rdf_data = pd.DataFrame(rdf_data)         \n",
    "\n",
    "rdf_data.to_csv('cropped_images/more_targets_rdf_renamed.csv')"
   ]
  },
  {
   "cell_type": "code",
   "execution_count": null,
   "id": "15b49c70-f0bd-4d76-bb8a-152a40f76e3d",
   "metadata": {},
   "outputs": [],
   "source": [
    "data, _ = read_data('SSU_IF/cropped_intens/outputs/', regex=r'/[A-G]\\d+_+(?P<plasmid>[^_]+).*_(?P<star>28S|18S)488.*nd2')\n",
    "data"
   ]
  },
  {
   "cell_type": "code",
   "execution_count": null,
   "id": "beafc780-6580-42ab-94c8-4926b82e4439",
   "metadata": {},
   "outputs": [],
   "source": [
    "sns.relplot(data=data, x='mean_Intensity_GC_GC', y='mean_Intensity_DFC_GC', hue='star', col='plasmid')"
   ]
  },
  {
   "cell_type": "code",
   "execution_count": null,
   "id": "d915970b-26ca-4cb8-be51-e1a2be3703bf",
   "metadata": {},
   "outputs": [],
   "source": [
    "data.to_csv('GC_DFC_quantification.csv')"
   ]
  },
  {
   "cell_type": "code",
   "execution_count": null,
   "id": "4d7404da-dbfa-4b7d-b527-2ed2f0a61135",
   "metadata": {},
   "outputs": [],
   "source": [
    "data.T[0]"
   ]
  },
  {
   "cell_type": "code",
   "execution_count": null,
   "id": "dc18d245-da90-4594-8240-66a769765ec1",
   "metadata": {},
   "outputs": [],
   "source": [
    "data.drop(\n",
    "    columns=[c for c in data.columns if 'target' in c]).rename(\n",
    "    columns={c: c.replace('18S', '') for c in data.columns if '18Sstar' in c}).to_csv('GC_DFC_quantification.csv')"
   ]
  },
  {
   "cell_type": "code",
   "execution_count": null,
   "id": "f53a2ab1-f8d7-4747-a86e-8832324a2833",
   "metadata": {},
   "outputs": [],
   "source": [
    "def add_rim(result, directory, common, bins=1, total=10):\n",
    "    cols = open(directory / 'InitialNucleoli.csv').readline().split(',')\n",
    "    cols = [c for c in cols \n",
    "            if c.startswith('RadialDistribution_FracAtD')\n",
    "           ]\n",
    "    distributions = pd.read_csv(\n",
    "        directory / 'InitialNucleoli.csv', \n",
    "        usecols=common + cols,\n",
    "    )\n",
    "\n",
    "    bins = [i for i in range(total, total-bins, -1)]\n",
    "    relative_areas = distributions[[f'RadialDistribution_FracAtD_InitialNucleoliObjectImage_{bin}of{total}' for bin in bins]].sum(axis=1)\n",
    "    distributions['dfc_rim_enrichment'] = distributions[[f'RadialDistribution_FracAtD_DFC_{bin}of{total}' for bin in bins]].sum(axis=1) / relative_areas\n",
    "    distributions['fc_rim_enrichment'] = distributions[[f'RadialDistribution_FracAtD_FC_{bin}of{total}' for bin in bins]].sum(axis=1) / relative_areas\n",
    "        \n",
    "    map_cols = {\n",
    "        'dfc_rim_enrichment': 'dfc_rim_enrichment',\n",
    "        'fc_rim_enrichment': 'fc_rim_enrichment',\n",
    "    }\n",
    "    result = merge_result(result, distributions, map_cols)\n",
    "\n",
    "    return result\n",
    "\n",
    "def read_rim_data(directory, regex=None):\n",
    "    directory = Path(directory)\n",
    "    # image and object number are uniuqe identifiers.  Area is used a lot and the parent_mergedGC should correspond to a single cell\n",
    "    common = ['ImageNumber', 'ObjectNumber', 'Parent_DilatedNucleoli']\n",
    "\n",
    "    result = build_initial_data(directory, common, regex)\n",
    "\n",
    "    result = add_npm_partitioning(result, directory, common, other_name='FC')\n",
    "    result = add_rim(result, directory, common, bins=4, total=20)\n",
    "    \n",
    "    return result.drop(columns='Parent_DilatedNucleoli')\n",
    "\n",
    "data = read_rim_data('/scratch/gpfs/tcomi/cp_morphology_240617/SSU_rim/ssu_240801/outputs', \n",
    "                     regex=r'/SSU_rim/(?P<SSU>SSUWT|SSUmut)/.*nd2')\n",
    "data[data.isna().any(axis=1)].Metadata_FileLocation.unique()\n",
    "data"
   ]
  },
  {
   "cell_type": "code",
   "execution_count": null,
   "id": "551c7aaa-a23e-4b59-87a3-68e883a421de",
   "metadata": {},
   "outputs": [],
   "source": [
    "sns.scatterplot(data=data, hue='SSU', x='fc_rim_enrichment', y='dfc_rim_enrichment')"
   ]
  },
  {
   "cell_type": "code",
   "execution_count": null,
   "id": "50accc7d-71a2-4413-b6ab-2d1fa18c1690",
   "metadata": {},
   "outputs": [],
   "source": [
    "data.to_csv('ssu_rim_240801.csv')"
   ]
  },
  {
   "cell_type": "code",
   "execution_count": null,
   "id": "26eb1973-2bbc-45df-99cd-6f7205fd414f",
   "metadata": {},
   "outputs": [],
   "source": []
  }
 ],
 "metadata": {
  "kernelspec": {
   "display_name": "Python 3 (ipykernel)",
   "language": "python",
   "name": "python3"
  },
  "language_info": {
   "codemirror_mode": {
    "name": "ipython",
    "version": 3
   },
   "file_extension": ".py",
   "mimetype": "text/x-python",
   "name": "python",
   "nbconvert_exporter": "python",
   "pygments_lexer": "ipython3",
   "version": "3.11.4"
  }
 },
 "nbformat": 4,
 "nbformat_minor": 5
}
